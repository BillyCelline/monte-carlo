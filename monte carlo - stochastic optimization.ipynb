{
 "cells": [
  {
   "cell_type": "code",
   "execution_count": 2,
   "metadata": {},
   "outputs": [],
   "source": [
    "import math\n",
    "import numpy as np\n",
    "import scipy.stats as sct\n",
    "from scipy.optimize import minimize\n",
    "\n",
    "from scipy.stats import norm\n",
    "from scipy.stats import bernoulli\n",
    "from scipy.stats import geom\n",
    "\n",
    "from matplotlib import pyplot as plt"
   ]
  },
  {
   "cell_type": "markdown",
   "metadata": {},
   "source": [
    "$X$ represents the total cash received after liquidating the portfolio, which contains an allocation to the risk free asset and an allocation to the risky asset (ETF), net of any associated transaction costs.\n",
    "\n",
    "Using initial portfolio allocations (in shares) at $t=0$, $\\theta(0)$ and $\\phi(0)$, we model $X$ similar to that of our initial outlay $b$, except we need to deduct the total transaction costs from our cash receipt (as compared to added into $b$, as in our total cash outlay)\n",
    "\n",
    "Thus $X = g(\\cdot) = \\theta(0) \\cdot F(1) + \\phi(0)\\cdot S(1) - \\phi(0)^2 \\cdot \\rho \\cdot S(1)$\n",
    "\n",
    "where $\\theta(0)$, $\\phi(0)$, $F(1)$, and $S(1)$ are parameters in the function with transaction costs $\\rho \\in (0,1)$\n",
    "\n",
    "A test run of asset pricing and optimization routine is below:"
   ]
  },
  {
   "cell_type": "code",
   "execution_count": 3,
   "metadata": {},
   "outputs": [],
   "source": [
    "#sample model assumptions\n",
    "\n",
    "F0 = 1\n",
    "S0 = 2\n",
    "p = 0.4\n",
    "mu0 = 0.1\n",
    "sigma0 = 0.15\n",
    "mu1 = 0.25\n",
    "sigma1 = 0.3\n",
    "rho = 0.01\n",
    "r = 0.03\n",
    "b = 200"
   ]
  },
  {
   "cell_type": "markdown",
   "metadata": {},
   "source": [
    "Sample generation of RVs and respective asset prices at time $t=1$\n"
   ]
  },
  {
   "cell_type": "code",
   "execution_count": 4,
   "metadata": {},
   "outputs": [
    {
     "name": "stdout",
     "output_type": "stream",
     "text": [
      "Risk Free Asset:  [1.03045453] \n",
      "Risky Asset:  [2.37811044]\n"
     ]
    }
   ],
   "source": [
    "#sample calcs for RVs and S(1), F(1)\n",
    "\n",
    "r_star = 1 - pow(2, -1.5) \n",
    "N = np.random.geometric(p = r_star)\n",
    "\n",
    "N = 1 #for now, will need to remove this when doing legit monte carlo\n",
    "\n",
    "J = bernoulli.rvs(p, size=N)\n",
    "Z = norm.rvs(0, 1, size=N)\n",
    "R = np.exp((mu0 + Z*sigma0*J) + (mu1 + Z*sigma1*(1-J)))\n",
    "\n",
    "S1 = S0*R\n",
    "F1 = np.tile(np.exp(r)*F0,N)\n",
    "print('Risk Free Asset: ', F1, '\\nRisky Asset: ', S1)"
   ]
  },
  {
   "cell_type": "code",
   "execution_count": 5,
   "metadata": {},
   "outputs": [],
   "source": [
    "#sample objective functions\n",
    "\n",
    "def u(x):\n",
    "    return -1*np.log(max(0,(x[0]*F1 + x[1]*S1 - (x[1]**2)*rho*S1)))"
   ]
  },
  {
   "cell_type": "markdown",
   "metadata": {},
   "source": [
    "Need to set bounds for optimization above 0 so the logarithm aspect of the utility function $u(x) = log(max(0,X))$ doesn't break during the optimization routine.\n",
    "\n",
    "Thus, short positions are not possible."
   ]
  },
  {
   "cell_type": "code",
   "execution_count": 6,
   "metadata": {},
   "outputs": [],
   "source": [
    "#bounds\n",
    "\n",
    "bnds = ((.000001, np.inf), (.000001, np.inf))"
   ]
  },
  {
   "cell_type": "markdown",
   "metadata": {},
   "source": [
    "The only constraint in this problem is that the initial cash outlay $b = 200$, so we set up an equality constraint below"
   ]
  },
  {
   "cell_type": "code",
   "execution_count": 7,
   "metadata": {},
   "outputs": [],
   "source": [
    "#constraints\n",
    "\n",
    "def cons1(x):\n",
    "    return 1*(x[0]*F0 + x[1]*S0 + (x[1]**2)*rho*S0 - 200)\n",
    "cons = ({'type':'eq', 'fun': cons1})"
   ]
  },
  {
   "cell_type": "markdown",
   "metadata": {},
   "source": [
    "Finally, the optimization routine"
   ]
  },
  {
   "cell_type": "code",
   "execution_count": 8,
   "metadata": {},
   "outputs": [
    {
     "data": {
      "text/plain": [
       "     fun: -5.279811189928385\n",
       "     jac: array([-0.00524849, -0.0075525 ])\n",
       " message: 'Optimization terminated successfully.'\n",
       "    nfev: 26\n",
       "     nit: 6\n",
       "    njev: 6\n",
       "  status: 0\n",
       " success: True\n",
       "       x: array([155.26565003,  18.82381492])"
      ]
     },
     "execution_count": 8,
     "metadata": {},
     "output_type": "execute_result"
    }
   ],
   "source": [
    "#non-linear optimization\n",
    "\n",
    "res = minimize(u, [0,0], method='SLSQP', bounds = bnds, constraints = cons)\n",
    "res"
   ]
  },
  {
   "cell_type": "code",
   "execution_count": 9,
   "metadata": {},
   "outputs": [
    {
     "name": "stdout",
     "output_type": "stream",
     "text": [
      "Initial cash outlay b = 200?  True\n"
     ]
    }
   ],
   "source": [
    "#constraint check\n",
    "\n",
    "print('Initial cash outlay b = 200? ',np.isclose(round(cons1(res.x),4),0))"
   ]
  },
  {
   "cell_type": "code",
   "execution_count": 10,
   "metadata": {},
   "outputs": [
    {
     "data": {
      "text/plain": [
       "array([5.27981119])"
      ]
     },
     "execution_count": 10,
     "metadata": {},
     "output_type": "execute_result"
    }
   ],
   "source": [
    "#maximum utility\n",
    "\n",
    "-u(res.x)"
   ]
  },
  {
   "cell_type": "code",
   "execution_count": 11,
   "metadata": {},
   "outputs": [],
   "source": [
    "def opt(N, S0, n0, p, mu0, sigma0, mu1, sigma1, rho, r, b):\n",
    "    obj, opt = np.zeros(pow(2,N+n0+1)), np.zeros(pow(2,N+n0+1))\n",
    "        \n",
    "    J = bernoulli.rvs(p, size=pow(2,N+n0+1))\n",
    "    Z = norm.rvs(0, 1, size=pow(2,N+n0+1))\n",
    "    R = np.exp((mu0 + Z*sigma0*J) + (mu1 + Z*sigma1*(1-J)))\n",
    "    \n",
    "    F0 = 1\n",
    "    S1 = S0*R\n",
    "    F1 = np.tile(np.exp(r)*F0,pow(2,N+n0+1))\n",
    "    \n",
    "    for i in range(len(obj)):\n",
    "        def u(x):\n",
    "            return -1*np.log(max(0,(x[0]*F1[i] + x[1]*S1[i] - (x[1]**2)*rho*S1[i])))\n",
    "        def cons1(x):\n",
    "            return 1*(x[0]*F0 + x[1]*S0 + (x[1]**2)*rho*S0 - b)\n",
    "        cons = ({'type':'eq', 'fun': cons1})\n",
    "        bnds = ((.000001, np.inf), (.000001, np.inf))\n",
    "    \n",
    "        res = minimize(u, [0,0], method='SLSQP', bounds = bnds, constraints = cons)\n",
    "        obj[i] = -u(res.x)\n",
    "        opt[i] = res.x[1]\n",
    "    return obj, opt"
   ]
  },
  {
   "cell_type": "code",
   "execution_count": 18,
   "metadata": {},
   "outputs": [],
   "source": [
    "def Q2(S0, p, mu0, sigma0, mu1, sigma1, rho, r, b, gamma, delta, n0, N0):\n",
    "    burn_in = n0\n",
    "    num_sample = N0\n",
    "    z = sct.norm.ppf(1 - delta/2) # 1 - delta/2 quantile of N(0, 1)\n",
    "    r_star = 1 - pow(2, -1.5) # optimal success rate for the geometric of N\n",
    "\n",
    "    obj_confidence_interval = float('inf')\n",
    "    opt_confidence_interval = float('inf')\n",
    "    obj_running_mean = 0\n",
    "    opt_running_mean = 0\n",
    "    obj_running_2moment = 0\n",
    "    opt_running_2moment = 0\n",
    "\n",
    "    num_estimator = 0 #count of number of estimators generated\n",
    "    CIs1 = np.zeros((1, num_sample))\n",
    "    CIs2 = np.zeros((1, num_sample))\n",
    "    obj_estimation = np.zeros((1, num_sample))\n",
    "    opt_estimation = np.zeros((1, num_sample))\n",
    "\n",
    "    while (num_estimator < num_sample or (obj_confidence_interval >= delta and opt_confidence_interval >= delta)):\n",
    "        N = np.random.geometric(p=r_star)\n",
    "        obj_samples, opt_samples = opt(N, S0, n0, p, mu0, sigma0, mu1, sigma1, rho, r, b)\n",
    "    \n",
    "        obj_samples_odd = obj_samples[0::2]\n",
    "        obj_samples_even = obj_samples[1::2]\n",
    "        obj_samples_n_0 = obj_samples[0:pow(2,n0)]\n",
    "    \n",
    "        obj_theta_N = np.mean(obj_samples)\n",
    "        obj_theta_N_odd = np.mean(obj_samples_odd)\n",
    "        obj_theta_N_even = np.mean(obj_samples_even)\n",
    "        obj_theta_n_0 = np.mean(obj_samples_n_0)\n",
    "    \n",
    "        opt_samples_odd = opt_samples[0::2]\n",
    "        opt_samples_even = opt_samples[1::2]\n",
    "        opt_samples_n_0 = opt_samples[0:pow(2,n0)]\n",
    "    \n",
    "        opt_theta_N = np.mean(opt_samples)\n",
    "        opt_theta_N_odd = np.mean(opt_samples_odd)\n",
    "        opt_theta_N_even = np.mean(opt_samples_even)\n",
    "        opt_theta_n_0 = np.mean(opt_samples_n_0)\n",
    "    \n",
    "        obj_X_star = (obj_theta_N - (obj_theta_N_odd + obj_theta_N_even) / 2) / sct.geom(r_star).pmf(N+1) + obj_theta_n_0\n",
    "        opt_X_star = (opt_theta_N - (opt_theta_N_odd + opt_theta_N_even) / 2) / sct.geom(r_star).pmf(N+1) + opt_theta_n_0\n",
    "    \n",
    "        obj_running_mean = (obj_running_mean * num_estimator + obj_X_star) / (num_estimator + 1)\n",
    "        opt_running_mean = (opt_running_mean * num_estimator + opt_X_star) / (num_estimator + 1)\n",
    "    \n",
    "        obj_running_2moment = (obj_running_2moment * num_estimator + pow(obj_X_star, 2)) / (num_estimator + 1)\n",
    "        opt_running_2moment = (opt_running_2moment * num_estimator + pow(opt_X_star, 2)) / (num_estimator + 1)\n",
    "    \n",
    "        obj_sample_std = math.sqrt(obj_running_2moment - pow(obj_running_mean, 2))\n",
    "        opt_sample_std = math.sqrt(opt_running_2moment - pow(opt_running_mean, 2))\n",
    "    \n",
    "        num_estimator = num_estimator + 1\n",
    "    \n",
    "        obj_confidence_interval = z * obj_sample_std / (math.sqrt(num_estimator))\n",
    "        opt_confidence_interval = z * opt_sample_std / (math.sqrt(num_estimator))\n",
    "    \n",
    "        obj_estimation[:,num_estimator-1] = obj_running_mean\n",
    "        opt_estimation[:,num_estimator-1] = opt_running_mean\n",
    "    \n",
    "        CIs1[:,num_estimator-1] = obj_confidence_interval\n",
    "        CIs2[:,num_estimator-1] = opt_confidence_interval\n",
    "    \n",
    "    obj_lower = obj_estimation - CIs1\n",
    "    opt_lower = opt_estimation - CIs2\n",
    "    \n",
    "    obj_upper = obj_estimation + CIs1\n",
    "    opt_upper = opt_estimation + CIs2\n",
    "    \n",
    "    print('Generate', num_estimator , 'samples \\n')\n",
    "    \n",
    "    fig, (ax1, ax2) = plt.subplots(2)\n",
    "                                                                        \n",
    "    n_range = np.arange(burn_in-1, num_sample)\n",
    "    ax1.plot(n_range, obj_estimation[0,n_range], label='objective function estimation')\n",
    "    ax1.plot(n_range, obj_lower[0,n_range], label='lower CI')\n",
    "    ax1.plot(n_range, obj_upper[0,n_range], label='upper CI')\n",
    "    \n",
    "    ax2.plot(n_range, opt_estimation[0,n_range], label='optimal parameter estimation')\n",
    "    ax2.plot(n_range, opt_lower[0,n_range], label='lower CI')\n",
    "    ax2.plot(n_range, opt_upper[0,n_range], label='upper CI')\n",
    "    \n",
    "    ax1.legend(loc='upper right')\n",
    "    ax2.legend(loc='lower right')\n",
    "    plt.show()\n",
    "    return obj_running_mean, obj_confidence_interval, opt_running_mean, opt_confidence_interval"
   ]
  },
  {
   "cell_type": "code",
   "execution_count": 19,
   "metadata": {},
   "outputs": [
    {
     "name": "stderr",
     "output_type": "stream",
     "text": [
      "C:\\Users\\U399614\\AppData\\Local\\Continuum\\anaconda3\\lib\\site-packages\\ipykernel_launcher.py:14: RuntimeWarning: divide by zero encountered in log\n",
      "  \n"
     ]
    },
    {
     "name": "stdout",
     "output_type": "stream",
     "text": [
      "Generate 10000 samples \n",
      "\n"
     ]
    },
    {
     "data": {
      "image/png": "[encoded data removed]",
      "text/plain": [
       "<Figure size 432x288 with 2 Axes>"
      ]
     },
     "metadata": {},
     "output_type": "display_data"
    }
   ],
   "source": [
    "obj_exp, obj_CI, opt_exp, opt_CI = Q2(2, .4, .1, .15, .25, .3, .01, .03, 200, .05, .05, 2, 10000)"
   ]
  },
  {
   "cell_type": "code",
   "execution_count": 20,
   "metadata": {},
   "outputs": [
    {
     "name": "stdout",
     "output_type": "stream",
     "text": [
      "Optimal Parameter Confidence Interval:  [18.334566990833785, 18.60341453322456]\n"
     ]
    }
   ],
   "source": [
    "#2a\n",
    "\n",
    "print('Optimal Parameter Confidence Interval: ',[opt_exp-opt_CI, opt_exp+opt_CI])"
   ]
  },
  {
   "cell_type": "markdown",
   "metadata": {},
   "source": [
    "2b)\n",
    "\n",
    "To begin, we generate our $N$ amount of samples using a geometric distribution. Then we generate the values of the assets at $t=1$ and loop through each sample in order to obtain the samples of our estimator. In this case, it is the maximum value achieved by a non-linear optimization routine that we need to use in order to solve for the maximum value of $E[u(x)]$ subject to the constraint that the total cost is equal to $b = 200$.\n",
    "\n",
    "In order to obtain an unbiased estimator for our utility function $u(x)$, I used a randomized multi-level monte carlo procedure. This was necessary because of what we are trying to estimate, which is an expectation of a function of RVs. Without using MLMC, we would be introducing bias into our estimator per Jensen's inequality. Using a 5% error threshold, I computed the confidence interval of the estimator with 95% confidence."
   ]
  },
  {
   "cell_type": "code",
   "execution_count": 21,
   "metadata": {},
   "outputs": [
    {
     "name": "stdout",
     "output_type": "stream",
     "text": [
      "Objective Function Confidence Interval:  [5.2902601555223265, 5.290917610086413]\n"
     ]
    }
   ],
   "source": [
    "#2b\n",
    "\n",
    "print('Objective Function Confidence Interval: ',[obj_exp-obj_CI, obj_exp+obj_CI])"
   ]
  },
  {
   "cell_type": "code",
   "execution_count": 22,
   "metadata": {},
   "outputs": [],
   "source": [
    "#2c\n",
    "\n",
    "riskless = 200- opt_exp*2 + (opt_exp**2)*rho*2\n",
    "risky = opt_exp"
   ]
  },
  {
   "cell_type": "code",
   "execution_count": 23,
   "metadata": {},
   "outputs": [],
   "source": [
    "def sampler(riskless, risky, N, S0, n0, p, mu0, sigma0, mu1, sigma1, rho, r, b):\n",
    "    obj = np.zeros(pow(2,N+n0+1))\n",
    "        \n",
    "    J = bernoulli.rvs(p, size=pow(2,N+n0+1))\n",
    "    Z = norm.rvs(0, 1, size=pow(2,N+n0+1))\n",
    "    R = np.exp((mu0 + Z*sigma0*J) + (mu1 + Z*sigma1*(1-J)))\n",
    "    \n",
    "    F0 = 1\n",
    "    S1 = S0*R\n",
    "    F1 = np.tile(np.exp(r)*F0,pow(2,N+n0+1))\n",
    "    \n",
    "    for i in range(len(obj)):\n",
    "        obj[i] = max(0,b-(riskless*F1[i] + risky*S1[i] - (risky**2)*rho*S1[i]))\n",
    "    \n",
    "    return obj"
   ]
  },
  {
   "cell_type": "code",
   "execution_count": 24,
   "metadata": {},
   "outputs": [],
   "source": [
    "def other_Q2(S0, p, mu0, sigma0, mu1, sigma1, rho, r, b, gamma, delta, n0, N0):\n",
    "\n",
    "    burn_in = n0\n",
    "    num_sample = N0\n",
    "    \n",
    "    z = sct.norm.ppf(1 - delta/2) # 1 - delta/2 quantile of N(0, 1)\n",
    "    r_star = 1 - pow(2, -1.5) # optimal success rate for the geometric of N\n",
    "    \n",
    "    confidence_interval = float('inf')\n",
    "    running_mean = 0\n",
    "    running_2moment = 0\n",
    "    num_estimator = 0 #count of number of estimators generated\n",
    "    \n",
    "    CIs = np.zeros((1, num_sample))\n",
    "    estimation = np.zeros((1, num_sample))\n",
    "    \n",
    "    while (num_estimator < num_sample or confidence_interval >= delta):\n",
    "        N = np.random.geometric(p=r_star)\n",
    "        samples = sampler(riskless, risky, N, S0, n0, p, mu0, sigma0, mu1, sigma1, rho, r, b)\n",
    "        samples_odd = samples[0::2]\n",
    "        samples_even = samples[1::2]\n",
    "        samples_n_0 = samples[0:pow(2,n0)]\n",
    "        \n",
    "        theta_N = np.mean(samples)\n",
    "        theta_N_odd = np.mean(samples_odd)\n",
    "        theta_N_even = np.mean(samples_even)\n",
    "        theta_n_0 = np.mean(samples_n_0)\n",
    "        \n",
    "        X_star = (theta_N - (theta_N_odd + theta_N_even) / 2) / sct.geom(r_star).pmf(N+1) + theta_n_0\n",
    "        running_mean = (running_mean * num_estimator + X_star) / (num_estimator + 1)\n",
    "        running_2moment = (running_2moment * num_estimator + pow(X_star, 2)) / (num_estimator + 1)\n",
    "       \n",
    "        sample_std = math.sqrt(running_2moment - pow(running_mean, 2))\n",
    "        num_estimator = num_estimator + 1\n",
    "        confidence_interval = z * sample_std / (math.sqrt(num_estimator))\n",
    "        estimation[:,num_estimator-1] = running_mean\n",
    "        CIs[:,num_estimator-1] = confidence_interval\n",
    "        \n",
    "    lower = estimation - CIs\n",
    "    upper = estimation + CIs\n",
    "    print('Generate', num_estimator , 'samples \\n')\n",
    "    \n",
    "    n_range = np.arange(burn_in-1, num_sample)\n",
    "    plt.plot(n_range, estimation[0,n_range], label='estimation')\n",
    "    plt.plot(n_range, lower[0,n_range], label='lower CI')\n",
    "    plt.plot(n_range, upper[0,n_range], label='upper CI')\n",
    "    plt.legend(loc='upper right')\n",
    "    plt.show()\n",
    "    \n",
    "    return running_mean, confidence_interval"
   ]
  },
  {
   "cell_type": "code",
   "execution_count": 30,
   "metadata": {},
   "outputs": [
    {
     "name": "stdout",
     "output_type": "stream",
     "text": [
      "Generate 100000 samples \n",
      "\n"
     ]
    },
    {
     "data": {
      "image/png": "[encoded data removed]",
      "text/plain": [
       "<Figure size 432x288 with 1 Axes>"
      ]
     },
     "metadata": {},
     "output_type": "display_data"
    }
   ],
   "source": [
    "exp_loss, CI_loss = other_Q2(2, .4, .1, .15, .25, .3, .01, .03, 200, .05, .05, 2, 100000)"
   ]
  },
  {
   "cell_type": "code",
   "execution_count": 31,
   "metadata": {},
   "outputs": [
    {
     "name": "stdout",
     "output_type": "stream",
     "text": [
      "95% VaR:  [0.05668289192409638, 0.05984745368006911]\n"
     ]
    }
   ],
   "source": [
    "print('95% VaR: ',[exp_loss-CI_loss, exp_loss+CI_loss])"
   ]
  },
  {
   "cell_type": "markdown",
   "metadata": {},
   "source": [
    "Our previous analysis provides us with optimal portfolio allocations for maximizing the utility function. \n",
    "\n",
    "What's interesting about the two different estimators is that the the maximum utility function appears to be very tightly clustered around 5.3, to the extent that even if we wanted to use a variance reduction technique, it probably wouldn't be worthwhile. That said, the optimal allocation to the risky asset is more interesting because of the wider band of values that it takes - which is anywhere from 0 to the high 40s. That's a big range!"
   ]
  },
  {
   "cell_type": "code",
   "execution_count": 37,
   "metadata": {},
   "outputs": [
    {
     "data": {
      "text/plain": [
       "<function matplotlib.pyplot.show(*args, **kw)>"
      ]
     },
     "execution_count": 37,
     "metadata": {},
     "output_type": "execute_result"
    },
    {
     "data": {
      "image/png": "[encoded data removed]",
      "text/plain": [
       "<Figure size 432x288 with 1 Axes>"
      ]
     },
     "metadata": {},
     "output_type": "display_data"
    }
   ],
   "source": [
    "plt.hist(x1,bins=100)\n",
    "plt.show"
   ]
  },
  {
   "cell_type": "code",
   "execution_count": 38,
   "metadata": {},
   "outputs": [
    {
     "data": {
      "text/plain": [
       "<function matplotlib.pyplot.show(*args, **kw)>"
      ]
     },
     "execution_count": 38,
     "metadata": {},
     "output_type": "execute_result"
    },
    {
     "data": {
      "image/png": "[encoded data removed]",
      "text/plain": [
       "<Figure size 432x288 with 1 Axes>"
      ]
     },
     "metadata": {},
     "output_type": "display_data"
    }
   ],
   "source": [
    "plt.hist(x2,bins=100)\n",
    "plt.show"
   ]
  },
  {
   "cell_type": "markdown",
   "metadata": {},
   "source": [
    "So basically what our above analysis is telling us is that we should take the middle of the road allocation to the risky asset; in the 18 share area.\n",
    "\n",
    "Lets use these allocations to form control variates and expectations of optimal allocations, and hopefully we can hopefully achieve some variance reduction. \n",
    "\n",
    "The portfolio's allocation to the risky asset is obviously very sensitive to the allocation to the risk free asset. This makes sense - there are only two assets in the portfolio!\n",
    "\n",
    "We can use the expected value of the risk free portion of the portfolio given an optimal allocation at time $t=0$ as a control variate.\n",
    "\n",
    "Set $g(\\cdot) = \\theta(0) \\cdot F(0)$ with the expectation of being the optimal riskless allocation that we computed above"
   ]
  },
  {
   "cell_type": "code",
   "execution_count": 39,
   "metadata": {},
   "outputs": [
    {
     "name": "stdout",
     "output_type": "stream",
     "text": [
      "169.88409087130006\n"
     ]
    }
   ],
   "source": [
    "EZ = riskless*F0\n",
    "\n",
    "def g(Z):\n",
    "    return Z*F0\n",
    "\n",
    "print(EZ)"
   ]
  },
  {
   "cell_type": "code",
   "execution_count": 34,
   "metadata": {},
   "outputs": [],
   "source": [
    "def Q3_opt(N, S0, n0, p, mu0, sigma0, mu1, sigma1, rho, r, b):\n",
    "    obj, opt, GZ = np.zeros(pow(2,N+n0+1)), np.zeros(pow(2,N+n0+1)), np.zeros(pow(2,N+n0+1))\n",
    "        \n",
    "    J = bernoulli.rvs(p, size=pow(2,N+n0+1))\n",
    "    Z = norm.rvs(0, 1, size=pow(2,N+n0+1))\n",
    "    R = np.exp((mu0 + Z*sigma0*J) + (mu1 + Z*sigma1*(1-J)))\n",
    "    \n",
    "    F0 = 1\n",
    "    S1 = S0*R\n",
    "    F1 = np.tile(np.exp(r)*F0,pow(2,N+n0+1))\n",
    "    \n",
    "    for i in range(len(obj)):\n",
    "        def u(x):\n",
    "            return -1*np.log(max(0,(x[0]*F1[i] + x[1]*S1[i] - (x[1]**2)*rho*S1[i])))\n",
    "        def cons1(x):\n",
    "            return 1*(x[0]*F0 + x[1]*S0 + (x[1]**2)*rho*S0 - b)\n",
    "        cons = ({'type':'eq', 'fun': cons1})\n",
    "        bnds = ((.000001, np.inf), (.000001, np.inf))\n",
    "    \n",
    "        res = minimize(u, [0,0], method='SLSQP', bounds = bnds, constraints = cons)\n",
    "        obj[i] = -u(res.x)\n",
    "        opt[i] = res.x[1]\n",
    "        GZ[i] = res.x[0]\n",
    "        \n",
    "    return obj, opt, GZ"
   ]
  },
  {
   "cell_type": "code",
   "execution_count": 36,
   "metadata": {},
   "outputs": [
    {
     "name": "stderr",
     "output_type": "stream",
     "text": [
      "C:\\Users\\U399614\\AppData\\Local\\Continuum\\anaconda3\\lib\\site-packages\\ipykernel_launcher.py:14: RuntimeWarning: divide by zero encountered in log\n",
      "  \n"
     ]
    }
   ],
   "source": [
    "x1, x2, y = Q3_opt(2, S0, 10, p, mu0, sigma0, mu1, sigma1, rho, r, b)"
   ]
  },
  {
   "cell_type": "code",
   "execution_count": 237,
   "metadata": {},
   "outputs": [
    {
     "name": "stdout",
     "output_type": "stream",
     "text": [
      "Beta of Objective function to control variate Z:  0.6990343525919201\n",
      "Beta of optimal risk asset allocation to control variate Z:  -0.9967271808030959\n"
     ]
    }
   ],
   "source": [
    "#compute betas\n",
    "\n",
    "obj_beta = sct.pearsonr(x1,g(y))[0]\n",
    "opt_beta = sct.pearsonr(x2,g(y))[0]\n",
    "\n",
    "print('Beta of Objective function to control variate Z: ',obj_beta)\n",
    "print('Beta of optimal risk asset allocation to control variate Z: ',opt_beta)"
   ]
  },
  {
   "cell_type": "code",
   "execution_count": 238,
   "metadata": {},
   "outputs": [],
   "source": [
    "def first_CV_Q3(S0, p, mu0, sigma0, mu1, sigma1, rho, r, b, gamma, delta, n0, N0):\n",
    "    \n",
    "    EZ = riskless*F0\n",
    "\n",
    "    def g(Z):\n",
    "        return Z*F0\n",
    "    \n",
    "    burn_in = n0\n",
    "    num_sample = N0\n",
    "    z = sct.norm.ppf(1 - delta/2) # 1 - delta/2 quantile of N(0, 1)\n",
    "    r_star = 1 - pow(2, -1.5) # optimal success rate for the geometric of N\n",
    "\n",
    "    obj_confidence_interval = float('inf')\n",
    "    opt_confidence_interval = float('inf')\n",
    "    obj_running_mean = 0\n",
    "    opt_running_mean = 0\n",
    "    obj_running_2moment = 0\n",
    "    opt_running_2moment = 0\n",
    "\n",
    "    num_estimator = 0 #count of number of estimators generated\n",
    "    CIs1 = np.zeros((1, num_sample))\n",
    "    CIs2 = np.zeros((1, num_sample))\n",
    "    obj_estimation = np.zeros((1, num_sample))\n",
    "    opt_estimation = np.zeros((1, num_sample))\n",
    "\n",
    "    while (num_estimator < num_sample):\n",
    "        N = np.random.geometric(p=r_star)\n",
    "        obj_samples, opt_samples, Z = Q3_opt(N, S0, n0, p, mu0, sigma0, mu1, sigma1, rho, r, b)\n",
    "        \n",
    "        ######################\n",
    "        ###CONTROL VARIATES###\n",
    "        ######################\n",
    "        \n",
    "        opt_samples = opt_samples - (opt_beta * (g(Z) - EZ))\n",
    "    \n",
    "        obj_samples_odd = obj_samples[0::2]\n",
    "        obj_samples_even = obj_samples[1::2]\n",
    "        obj_samples_n_0 = obj_samples[0:pow(2,n0)]\n",
    "    \n",
    "        obj_theta_N = np.mean(obj_samples)\n",
    "        obj_theta_N_odd = np.mean(obj_samples_odd)\n",
    "        obj_theta_N_even = np.mean(obj_samples_even)\n",
    "        obj_theta_n_0 = np.mean(obj_samples_n_0)\n",
    "    \n",
    "        opt_samples_odd = opt_samples[0::2]\n",
    "        opt_samples_even = opt_samples[1::2]\n",
    "        opt_samples_n_0 = opt_samples[0:pow(2,n0)]\n",
    "    \n",
    "        opt_theta_N = np.mean(opt_samples)\n",
    "        opt_theta_N_odd = np.mean(opt_samples_odd)\n",
    "        opt_theta_N_even = np.mean(opt_samples_even)\n",
    "        opt_theta_n_0 = np.mean(opt_samples_n_0)\n",
    "    \n",
    "        obj_X_star = (obj_theta_N - (obj_theta_N_odd + obj_theta_N_even) / 2) / sct.geom(r_star).pmf(N+1) + obj_theta_n_0\n",
    "        opt_X_star = (opt_theta_N - (opt_theta_N_odd + opt_theta_N_even) / 2) / sct.geom(r_star).pmf(N+1) + opt_theta_n_0\n",
    "    \n",
    "        obj_running_mean = (obj_running_mean * num_estimator + obj_X_star) / (num_estimator + 1)\n",
    "        opt_running_mean = (opt_running_mean * num_estimator + opt_X_star) / (num_estimator + 1)\n",
    "    \n",
    "        obj_running_2moment = (obj_running_2moment * num_estimator + pow(obj_X_star, 2)) / (num_estimator + 1)\n",
    "        opt_running_2moment = (opt_running_2moment * num_estimator + pow(opt_X_star, 2)) / (num_estimator + 1)\n",
    "    \n",
    "        obj_sample_std = math.sqrt(obj_running_2moment - pow(obj_running_mean, 2))\n",
    "        opt_sample_std = math.sqrt(opt_running_2moment - pow(opt_running_mean, 2))\n",
    "    \n",
    "        num_estimator = num_estimator + 1\n",
    "    \n",
    "        obj_confidence_interval = z * obj_sample_std / (math.sqrt(num_estimator))\n",
    "        opt_confidence_interval = z * opt_sample_std / (math.sqrt(num_estimator))\n",
    "    \n",
    "        obj_estimation[:,num_estimator-1] = obj_running_mean\n",
    "        opt_estimation[:,num_estimator-1] = opt_running_mean\n",
    "    \n",
    "        CIs1[:,num_estimator-1] = obj_confidence_interval\n",
    "        CIs2[:,num_estimator-1] = opt_confidence_interval\n",
    "    \n",
    "    obj_lower = obj_estimation - CIs1\n",
    "    opt_lower = opt_estimation - CIs2\n",
    "    \n",
    "    obj_upper = obj_estimation + CIs1\n",
    "    opt_upper = opt_estimation + CIs2\n",
    "    \n",
    "    print('Generate', num_estimator , 'samples \\n')\n",
    "    \n",
    "    fig, (ax1, ax2) = plt.subplots(2)\n",
    "                                                                        \n",
    "    n_range = np.arange(burn_in-1, num_sample)\n",
    "    ax1.plot(n_range, obj_estimation[0,n_range], label='objective function estimation')\n",
    "    ax1.plot(n_range, obj_lower[0,n_range], label='lower CI')\n",
    "    ax1.plot(n_range, obj_upper[0,n_range], label='upper CI')\n",
    "    \n",
    "    ax2.plot(n_range, opt_estimation[0,n_range], label='optimal parameter estimation')\n",
    "    ax2.plot(n_range, opt_lower[0,n_range], label='lower CI')\n",
    "    ax2.plot(n_range, opt_upper[0,n_range], label='upper CI')\n",
    "    \n",
    "    ax1.legend(loc='upper right')\n",
    "    ax2.legend(loc='lower right')\n",
    "    plt.show()\n",
    "    return obj_running_mean, obj_confidence_interval, opt_running_mean, opt_confidence_interval"
   ]
  },
  {
   "cell_type": "code",
   "execution_count": 239,
   "metadata": {},
   "outputs": [
    {
     "name": "stderr",
     "output_type": "stream",
     "text": [
      "C:\\Users\\U399614\\AppData\\Local\\Continuum\\anaconda3\\lib\\site-packages\\ipykernel_launcher.py:14: RuntimeWarning: divide by zero encountered in log\n",
      "  \n"
     ]
    },
    {
     "name": "stdout",
     "output_type": "stream",
     "text": [
      "Generate 10000 samples \n",
      "\n"
     ]
    },
    {
     "data": {
      "image/png": "[encoded data removed]",
      "text/plain": [
       "<Figure size 432x288 with 2 Axes>"
      ]
     },
     "metadata": {},
     "output_type": "display_data"
    }
   ],
   "source": [
    "obj_exp, obj_CI, opt_exp, opt_CI = first_CV_Q3(2, .4, .1, .15, .25, .3, .01, .03, 200, .05, .05, 1, 10000)"
   ]
  },
  {
   "cell_type": "code",
   "execution_count": 240,
   "metadata": {},
   "outputs": [
    {
     "name": "stdout",
     "output_type": "stream",
     "text": [
      "Objective Function Confidence Interval:  [5.2899502219055625, 5.290890720824737]\n"
     ]
    }
   ],
   "source": [
    "print('Objective Function Confidence Interval: ',[obj_exp-obj_CI, obj_exp+obj_CI])"
   ]
  },
  {
   "cell_type": "code",
   "execution_count": 241,
   "metadata": {},
   "outputs": [
    {
     "name": "stdout",
     "output_type": "stream",
     "text": [
      "Optimal Parameter Confidence Interval:  [0.7723504599105809, 1.413102314539889]\n"
     ]
    }
   ],
   "source": [
    "print('Optimal Parameter Confidence Interval: ',[opt_exp-opt_CI, opt_exp+opt_CI])"
   ]
  },
  {
   "cell_type": "code",
   "execution_count": 245,
   "metadata": {},
   "outputs": [
    {
     "data": {
      "text/plain": [
       "5.1647134737372085"
      ]
     },
     "execution_count": 245,
     "metadata": {},
     "output_type": "execute_result"
    }
   ],
   "source": [
    "np.log(riskless*np.exp(r)*F0)"
   ]
  },
  {
   "cell_type": "markdown",
   "metadata": {},
   "source": [
    "Wow, these results are wildly different than our initial portfolio optimization.\n",
    "\n",
    "This basically says that we should not be allocating much, if any, of the portfolio to the risky asset.\n",
    "\n",
    "What if set our control variate by using an expected value of the risky asset allocation at time $t=1$ instead?\n",
    "\n",
    "Set $g(\\cdot) = \\theta(0) \\cdot F(1)$"
   ]
  },
  {
   "cell_type": "code",
   "execution_count": 243,
   "metadata": {},
   "outputs": [
    {
     "name": "stdout",
     "output_type": "stream",
     "text": [
      "Beta of Objective function to control variate Z:  0.6990343525919201\n",
      "Beta of optimal risk asset allocation to control variate Z:  -0.9967271808030959\n"
     ]
    }
   ],
   "source": [
    "#compute betas\n",
    "def g(Z):\n",
    "    return Z*np.exp(r)*F0\n",
    "\n",
    "obj_beta = sct.pearsonr(x1,g(y))[0]\n",
    "opt_beta = sct.pearsonr(x2,g(y))[0]\n",
    "\n",
    "print('Beta of Objective function to control variate Z: ',obj_beta)\n",
    "print('Beta of optimal risk asset allocation to control variate Z: ',opt_beta)"
   ]
  },
  {
   "cell_type": "code",
   "execution_count": 244,
   "metadata": {},
   "outputs": [],
   "source": [
    "def second_CV_Q3(S0, p, mu0, sigma0, mu1, sigma1, rho, r, b, gamma, delta, n0, N0):\n",
    "    \n",
    "    EZ = riskless*np.exp(r)*F0\n",
    "\n",
    "    def g(Z):\n",
    "        return Z*np.exp(r)*F0\n",
    "    \n",
    "    burn_in = n0\n",
    "    num_sample = N0\n",
    "    z = sct.norm.ppf(1 - delta/2) # 1 - delta/2 quantile of N(0, 1)\n",
    "    r_star = 1 - pow(2, -1.5) # optimal success rate for the geometric of N\n",
    "\n",
    "    obj_confidence_interval = float('inf')\n",
    "    opt_confidence_interval = float('inf')\n",
    "    obj_running_mean = 0\n",
    "    opt_running_mean = 0\n",
    "    obj_running_2moment = 0\n",
    "    opt_running_2moment = 0\n",
    "\n",
    "    num_estimator = 0 #count of number of estimators generated\n",
    "    CIs1 = np.zeros((1, num_sample))\n",
    "    CIs2 = np.zeros((1, num_sample))\n",
    "    obj_estimation = np.zeros((1, num_sample))\n",
    "    opt_estimation = np.zeros((1, num_sample))\n",
    "\n",
    "    while (num_estimator < num_sample):\n",
    "        N = np.random.geometric(p=r_star)\n",
    "        obj_samples, opt_samples, Z = Q3_opt(N, S0, n0, p, mu0, sigma0, mu1, sigma1, rho, r, b)\n",
    "        \n",
    "        ######################\n",
    "        ###CONTROL VARIATES###\n",
    "        ######################\n",
    "        \n",
    "        opt_samples = opt_samples - (opt_beta * (g(Z) - EZ))\n",
    "    \n",
    "        obj_samples_odd = obj_samples[0::2]\n",
    "        obj_samples_even = obj_samples[1::2]\n",
    "        obj_samples_n_0 = obj_samples[0:pow(2,n0)]\n",
    "    \n",
    "        obj_theta_N = np.mean(obj_samples)\n",
    "        obj_theta_N_odd = np.mean(obj_samples_odd)\n",
    "        obj_theta_N_even = np.mean(obj_samples_even)\n",
    "        obj_theta_n_0 = np.mean(obj_samples_n_0)\n",
    "    \n",
    "        opt_samples_odd = opt_samples[0::2]\n",
    "        opt_samples_even = opt_samples[1::2]\n",
    "        opt_samples_n_0 = opt_samples[0:pow(2,n0)]\n",
    "    \n",
    "        opt_theta_N = np.mean(opt_samples)\n",
    "        opt_theta_N_odd = np.mean(opt_samples_odd)\n",
    "        opt_theta_N_even = np.mean(opt_samples_even)\n",
    "        opt_theta_n_0 = np.mean(opt_samples_n_0)\n",
    "    \n",
    "        obj_X_star = (obj_theta_N - (obj_theta_N_odd + obj_theta_N_even) / 2) / sct.geom(r_star).pmf(N+1) + obj_theta_n_0\n",
    "        opt_X_star = (opt_theta_N - (opt_theta_N_odd + opt_theta_N_even) / 2) / sct.geom(r_star).pmf(N+1) + opt_theta_n_0\n",
    "    \n",
    "        obj_running_mean = (obj_running_mean * num_estimator + obj_X_star) / (num_estimator + 1)\n",
    "        opt_running_mean = (opt_running_mean * num_estimator + opt_X_star) / (num_estimator + 1)\n",
    "    \n",
    "        obj_running_2moment = (obj_running_2moment * num_estimator + pow(obj_X_star, 2)) / (num_estimator + 1)\n",
    "        opt_running_2moment = (opt_running_2moment * num_estimator + pow(opt_X_star, 2)) / (num_estimator + 1)\n",
    "    \n",
    "        obj_sample_std = math.sqrt(obj_running_2moment - pow(obj_running_mean, 2))\n",
    "        opt_sample_std = math.sqrt(opt_running_2moment - pow(opt_running_mean, 2))\n",
    "    \n",
    "        num_estimator = num_estimator + 1\n",
    "    \n",
    "        obj_confidence_interval = z * obj_sample_std / (math.sqrt(num_estimator))\n",
    "        opt_confidence_interval = z * opt_sample_std / (math.sqrt(num_estimator))\n",
    "    \n",
    "        obj_estimation[:,num_estimator-1] = obj_running_mean\n",
    "        opt_estimation[:,num_estimator-1] = opt_running_mean\n",
    "    \n",
    "        CIs1[:,num_estimator-1] = obj_confidence_interval\n",
    "        CIs2[:,num_estimator-1] = opt_confidence_interval\n",
    "    \n",
    "    obj_lower = obj_estimation - CIs1\n",
    "    opt_lower = opt_estimation - CIs2\n",
    "    \n",
    "    obj_upper = obj_estimation + CIs1\n",
    "    opt_upper = opt_estimation + CIs2\n",
    "    \n",
    "    print('Generate', num_estimator , 'samples \\n')\n",
    "    \n",
    "    fig, (ax1, ax2) = plt.subplots(2)\n",
    "                                                                        \n",
    "    n_range = np.arange(burn_in-1, num_sample)\n",
    "    ax1.plot(n_range, obj_estimation[0,n_range], label='objective function estimation')\n",
    "    ax1.plot(n_range, obj_lower[0,n_range], label='lower CI')\n",
    "    ax1.plot(n_range, obj_upper[0,n_range], label='upper CI')\n",
    "    \n",
    "    ax2.plot(n_range, opt_estimation[0,n_range], label='optimal parameter estimation')\n",
    "    ax2.plot(n_range, opt_lower[0,n_range], label='lower CI')\n",
    "    ax2.plot(n_range, opt_upper[0,n_range], label='upper CI')\n",
    "    \n",
    "    ax1.legend(loc='upper right')\n",
    "    ax2.legend(loc='lower right')\n",
    "    plt.show()\n",
    "    return obj_running_mean, obj_confidence_interval, opt_running_mean, opt_confidence_interval"
   ]
  },
  {
   "cell_type": "code",
   "execution_count": 246,
   "metadata": {},
   "outputs": [
    {
     "name": "stderr",
     "output_type": "stream",
     "text": [
      "C:\\Users\\U399614\\AppData\\Local\\Continuum\\anaconda3\\lib\\site-packages\\ipykernel_launcher.py:14: RuntimeWarning: divide by zero encountered in log\n",
      "  \n"
     ]
    },
    {
     "name": "stdout",
     "output_type": "stream",
     "text": [
      "Generate 10000 samples \n",
      "\n"
     ]
    },
    {
     "data": {
      "image/png": "[encoded data removed]",
      "text/plain": [
       "<Figure size 432x288 with 2 Axes>"
      ]
     },
     "metadata": {},
     "output_type": "display_data"
    }
   ],
   "source": [
    "obj_exp, obj_CI, opt_exp, opt_CI = second_CV_Q3(2, .4, .1, .15, .25, .3, .01, .03, 200, .05, .05, 1, 10000)"
   ]
  },
  {
   "cell_type": "code",
   "execution_count": 247,
   "metadata": {},
   "outputs": [
    {
     "name": "stdout",
     "output_type": "stream",
     "text": [
      "Objective Function Confidence Interval:  [5.29018702791844, 5.29112672261606]\n"
     ]
    }
   ],
   "source": [
    "print('Objective Function Confidence Interval: ',[obj_exp-obj_CI, obj_exp+obj_CI])"
   ]
  },
  {
   "cell_type": "code",
   "execution_count": 248,
   "metadata": {},
   "outputs": [
    {
     "name": "stdout",
     "output_type": "stream",
     "text": [
      "Optimal Parameter Confidence Interval:  [0.3677306891742972, 1.0403225363687039]\n"
     ]
    }
   ],
   "source": [
    "print('Optimal Parameter Confidence Interval: ',[opt_exp-opt_CI, opt_exp+opt_CI])"
   ]
  },
  {
   "cell_type": "markdown",
   "metadata": {},
   "source": [
    "Similar result! This is skewing our risky asset allocation even further to the lower end of the histogram."
   ]
  },
  {
   "cell_type": "code",
   "execution_count": 291,
   "metadata": {},
   "outputs": [
    {
     "data": {
      "text/plain": [
       "<function matplotlib.pyplot.show(*args, **kw)>"
      ]
     },
     "execution_count": 291,
     "metadata": {},
     "output_type": "execute_result"
    },
    {
     "data": {
      "image/png": "[encoded data removed]",
      "text/plain": [
       "<Figure size 432x288 with 1 Axes>"
      ]
     },
     "metadata": {},
     "output_type": "display_data"
    }
   ],
   "source": [
    "plt.hist(x2,bins=100)\n",
    "plt.show"
   ]
  },
  {
   "cell_type": "markdown",
   "metadata": {},
   "source": [
    "When we examine the histograms of the samples of the objective function and the optimal value, we can see that there are more samples clustered around the values that we computed as confidence intervals for our control variates. So maybe this actually was a good exercise in variance reduction after all.\n",
    "\n",
    "It's an interesting result, because it's basically telling us that the marginal risk/reward for the risky asset isn't worth it.\n",
    "\n",
    "We can compare the utility of a 100% allocation to the riskless security to the histogram of the maximized utility from our optimization routine"
   ]
  },
  {
   "cell_type": "code",
   "execution_count": 300,
   "metadata": {},
   "outputs": [],
   "source": [
    "test = np.tile(np.log(200*np.exp(r)*1),1500)"
   ]
  },
  {
   "cell_type": "code",
   "execution_count": 304,
   "metadata": {},
   "outputs": [
    {
     "data": {
      "text/plain": [
       "<function matplotlib.pyplot.show(*args, **kw)>"
      ]
     },
     "execution_count": 304,
     "metadata": {},
     "output_type": "execute_result"
    },
    {
     "data": {
      "image/png": "[encoded data removed]",
      "text/plain": [
       "<Figure size 432x288 with 1 Axes>"
      ]
     },
     "metadata": {},
     "output_type": "display_data"
    }
   ],
   "source": [
    "plt.hist(test, color='r', bins=50)\n",
    "plt.hist(x1, bins=100)\n",
    "plt.show"
   ]
  },
  {
   "cell_type": "markdown",
   "metadata": {},
   "source": [
    "and it's on the upper bound of the histogram! Further showing the lack of a good risk-reward tradeoff."
   ]
  },
  {
   "cell_type": "code",
   "execution_count": null,
   "metadata": {},
   "outputs": [],
   "source": []
  }
 ],
 "metadata": {
  "kernelspec": {
   "display_name": "Python 3",
   "language": "python",
   "name": "python3"
  },
  "language_info": {
   "codemirror_mode": {
    "name": "ipython",
    "version": 3
   },
   "file_extension": ".py",
   "mimetype": "text/x-python",
   "name": "python",
   "nbconvert_exporter": "python",
   "pygments_lexer": "ipython3",
   "version": "3.6.8"
  }
 },
 "nbformat": 4,
 "nbformat_minor": 2
}
