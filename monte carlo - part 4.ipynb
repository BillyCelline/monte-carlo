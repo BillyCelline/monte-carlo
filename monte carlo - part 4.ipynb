{
 "cells": [
  {
   "cell_type": "code",
   "execution_count": 32,
   "metadata": {},
   "outputs": [
    {
     "data": {
      "text/plain": [
       "[1.0,\n",
       " 0.36787944117144233,\n",
       " 0.1353352832366127,\n",
       " 0.049787068367863944,\n",
       " 0.018315638888734179,\n",
       " 0.006737946999085467,\n",
       " 0.0024787521766663585,\n",
       " 0.00091188196555451624,\n",
       " 0.00033546262790251185,\n",
       " 0.00012340980408667956]"
      ]
     },
     "execution_count": 32,
     "metadata": {},
     "output_type": "execute_result"
    }
   ],
   "source": [
    "[np.exp(-a) for a in range(10)]"
   ]
  },
  {
   "cell_type": "code",
   "execution_count": 25,
   "metadata": {},
   "outputs": [
    {
     "data": {
      "text/plain": [
       "[(1, 1.0),\n",
       " (2, 0.7071067811865476),\n",
       " (3, 0.5773502691896257),\n",
       " (4, 0.5),\n",
       " (5, 0.4472135954999579),\n",
       " (6, 0.408248290463863),\n",
       " (7, 0.37796447300922725),\n",
       " (8, 0.3535533905932738),\n",
       " (9, 0.3333333333333333)]"
      ]
     },
     "execution_count": 25,
     "metadata": {},
     "output_type": "execute_result"
    }
   ],
   "source": [
    "[(t,t**(-.5)) for t in range(1,10)]"
   ]
  },
  {
   "cell_type": "code",
   "execution_count": 30,
   "metadata": {},
   "outputs": [
    {
     "data": {
      "text/plain": [
       "[(1, 0.54030230586813977),\n",
       " (2, 0.62054458056374562),\n",
       " (3, 0.54557114732742051),\n",
       " (4, 0.48445621085532237),\n",
       " (5, 0.43829909810572104),\n",
       " (6, 0.40259128843807357),\n",
       " (7, 0.37411424736224991),\n",
       " (8, 0.35079484938766603),\n",
       " (9, 0.33127783617963064)]"
      ]
     },
     "execution_count": 30,
     "metadata": {},
     "output_type": "execute_result"
    }
   ],
   "source": [
    "[(t,t**(-.5)*np.abs(np.cos(1/t))) for t in range(1,10)]"
   ]
  },
  {
   "cell_type": "code",
   "execution_count": 20,
   "metadata": {},
   "outputs": [
    {
     "data": {
      "text/plain": [
       "[<matplotlib.lines.Line2D at 0x11ab330b8>]"
      ]
     },
     "execution_count": 20,
     "metadata": {},
     "output_type": "execute_result"
    },
    {
     "data": {
      "image/png": "[encoded data removed]",
      "text/plain": [
       "<Figure size 432x288 with 1 Axes>"
      ]
     },
     "metadata": {},
     "output_type": "display_data"
    }
   ],
   "source": [
    "y = [i**(-.5) for i in range(1,9)]\n",
    "plt.plot(y)"
   ]
  },
  {
   "cell_type": "code",
   "execution_count": 1,
   "metadata": {},
   "outputs": [],
   "source": [
    "import numpy as np\n",
    "import math\n",
    "from matplotlib import pyplot as plt\n",
    "from mpl_toolkits.mplot3d import axes3d\n",
    "\n",
    "from scipy.stats import expon\n",
    "from scipy.stats import uniform\n",
    "from scipy.stats import binom"
   ]
  },
  {
   "cell_type": "markdown",
   "metadata": {},
   "source": [
    "\n",
    "\n",
    "Step 1:\n",
    "\n",
    "We can generate uniform RV $\\sim U[0,1]$ and use the value to pick the quadrant to sample some such that:\n",
    "$$U_1 \\leq .25 = Q1$$ $$.25 < U_1 \\leq .5 = Q2$$ $$.5 < U_1 \\leq .75 = Q3$$ $$.75 < U_1 \\leq 1 = Q4$$\n",
    "\n",
    "Step 2:\n",
    "\n",
    "Using the first quadrant as an example, we solve for the area $\\int_0^1 \\frac{1}{x^{1/4}} = \\frac{4}{3}x^{3/4} = \\frac{4}{3}$\n",
    "\n",
    "To sample a value from the quadrant, we solve:\n",
    "\n",
    "$\\frac{4}{3}U[0,1] = \\frac{4}{3}x^{3/4}$\n",
    "\n",
    "$x^{3/4} = U[0,1]$\n",
    "\n",
    "$x = U[0,1]^{4/3}$\n",
    "\n",
    "$F^{-1}(x) = y^{4/3}$\n",
    "\n",
    "Step 3:\n",
    "\n",
    "Depending on $U[0,1]$ from step 1, we can flip the signs of $(x,y)$ into the appropriate quadrant"
   ]
  },
  {
   "cell_type": "markdown",
   "metadata": {},
   "source": [
    "First, we need to solve for k such that our joint pdf is a density:\n",
    "\n",
    "$\\int_{-\\infty}^{\\infty}\\int_{-\\infty}^{\\infty}ke^{(-x^2 - y^2 \\frac{cos(xy)x}{2}))} = 1$, k = .305\n",
    "\n",
    "Then we can use acceptence rejection with $c = \\sqrt{2\\pi}$ such that our proposal density $N(0,1)N(0,1)$ is simplified to $e^{-x^2/2 - y^2/2}$\n",
    "\n",
    "Step 1: Generate $U \\sim Unif[0,1]$\n",
    "\n",
    "Step 2: Generate normal RVs for our proposal - $g(x,y) = g(x)g(y) = N(0,1)N(0, 1)$\n",
    "\n",
    "Step 3: While $U > f(x,y)/cg(x,y)$\n",
    "        \n",
    "        Generate U\n",
    "        Generate X, Y\n",
    "\n",
    "\n",
    "Step 4: Accept $X$, $Y$"
   ]
  },
  {
   "cell_type": "code",
   "execution_count": 222,
   "metadata": {},
   "outputs": [],
   "source": [
    "from scipy.integrate import dblquad"
   ]
  },
  {
   "cell_type": "code",
   "execution_count": 243,
   "metadata": {},
   "outputs": [
    {
     "name": "stdout",
     "output_type": "stream",
     "text": [
      "k:  0.30512173640608914\n"
     ]
    }
   ],
   "source": [
    "def integrand(x,y):\n",
    "    return np.exp(-x**2 - y**2 + (np.cos(x*y)*x)/2)\n",
    "\n",
    "k = 1/dblquad(integrand,-np.inf,np.inf,-np.inf,np.inf)[0]\n",
    "print('k: ',k)"
   ]
  },
  {
   "cell_type": "code",
   "execution_count": 293,
   "metadata": {},
   "outputs": [],
   "source": [
    "def simulator(n):\n",
    "    x_blop, y_blop = np.zeros(n), np.zeros(n)\n",
    "    i = 0\n",
    "    c = np.sqrt(2*np.pi)\n",
    "    while i < n:\n",
    "        u = uniform.rvs(size=1)\n",
    "        x, y = np.random.normal(0,1), np.random.normal(0,1)\n",
    "        f, g = k*integrand(x,y), np.exp(-x*x/2 - y*y/2)\n",
    "        if u <= f/(c*g):\n",
    "            x_blop[i] = x\n",
    "            y_blop[i] = y\n",
    "            i += 1\n",
    "    plt.hist(x_blop, n, density=1, alpha=0.75)\n",
    "    print('E[X]: ', np.mean(x_blop))"
   ]
  },
  {
   "cell_type": "code",
   "execution_count": 285,
   "metadata": {},
   "outputs": [
    {
     "name": "stdout",
     "output_type": "stream",
     "text": [
      "E[X]:  0.162952275544\n"
     ]
    },
    {
     "data": {
      "image/png": "[encoded data removed]",
      "text/plain": [
       "<Figure size 432x288 with 1 Axes>"
      ]
     },
     "metadata": {},
     "output_type": "display_data"
    }
   ],
   "source": [
    "simulator(1000)"
   ]
  },
  {
   "cell_type": "code",
   "execution_count": 289,
   "metadata": {},
   "outputs": [
    {
     "name": "stdout",
     "output_type": "stream",
     "text": [
      "E[X]:  0.170007705897\n"
     ]
    },
    {
     "data": {
      "image/png": "[encoded data removed]",
      "text/plain": [
       "<Figure size 432x288 with 1 Axes>"
      ]
     },
     "metadata": {},
     "output_type": "display_data"
    }
   ],
   "source": [
    "simulator(10000)"
   ]
  },
  {
   "cell_type": "code",
   "execution_count": 288,
   "metadata": {},
   "outputs": [
    {
     "name": "stdout",
     "output_type": "stream",
     "text": [
      "E[X]:  0.176832190966\n"
     ]
    },
    {
     "data": {
      "image/png": "[encoded data removed]",
      "text/plain": [
       "<Figure size 432x288 with 1 Axes>"
      ]
     },
     "metadata": {},
     "output_type": "display_data"
    }
   ],
   "source": [
    "simulator(100000)"
   ]
  },
  {
   "cell_type": "markdown",
   "metadata": {},
   "source": [
    "\n",
    "service time: $F(x) = 1 - e^{-5\\sqrt{x}}$\n",
    "\n",
    "so the inverse\n",
    "\n",
    "$F^{-1}(x) = \\frac{log(1-y)}{-5}^2$ used for sampling function\n"
   ]
  },
  {
   "cell_type": "markdown",
   "metadata": {},
   "source": [
    "a) \n",
    "\n",
    "n = 10000;\n",
    "\n",
    "x = 1;\n",
    "\n",
    "while x <= n\n",
    "\n",
    "    finish = 0;\n",
    "    \n",
    "    l = 0;\n",
    "    \n",
    "    i = 1;\n",
    "    \n",
    "    samples = sample_inh_sin_rate(5);\n",
    "    \n",
    "    j = length(samples);\n",
    "    \n",
    "    while i <= j\n",
    "    \n",
    "        r = rand(1);\n",
    "        \n",
    "        if i == 1\n",
    "        \n",
    "            finish(i) = ((log(1-r)/(-5)))^2 + samples(i);\n",
    "            \n",
    "        elseif samples(i) > finish(i-1)\n",
    "        \n",
    "            finish(i) = ((log(1-r)/(-5)))^2 + samples(i);\n",
    "            \n",
    "        else\n",
    "        \n",
    "            finish(i) = ((log(1-r)/(-5)))^2 + finish(i-1);\n",
    "            \n",
    "        end\n",
    "        \n",
    "        i = i + 1;\n",
    "    end\n",
    "    \n",
    "    i = 1;\n",
    "    \n",
    "    while i <= j\n",
    "    \n",
    "        if samples(i) < 5 && finish(i) > 5\n",
    "        \n",
    "            l = l + 1;\n",
    "            \n",
    "        end\n",
    "        \n",
    "        i = i + 1;\n",
    "        \n",
    "    end\n",
    "\n",
    "queue(x) = l;\n",
    "\n",
    "x = x + 1;\n",
    "\n",
    "end\n",
    "\n",
    "round(mean(queue))"
   ]
  },
  {
   "cell_type": "markdown",
   "metadata": {},
   "source": [
    "a)\n",
    "\n",
    "ans =\n",
    "\n",
    "    1"
   ]
  },
  {
   "cell_type": "markdown",
   "metadata": {},
   "source": [
    "b)\n",
    "\n",
    "i = 1;\n",
    "\n",
    "n = 10000;\n",
    "\n",
    "x = 1;\n",
    "\n",
    "while x <= n\n",
    "\n",
    "    l = 0;\n",
    "    \n",
    "    temp = 0;\n",
    "    \n",
    "    finish = 0;\n",
    "\n",
    "    i = 1;\n",
    "\n",
    "    samples = sample_inh_sin_rate(6);\n",
    "\n",
    "    j = length(samples);\n",
    "\n",
    "    while i <= j\n",
    "\n",
    "        r = rand(1);\n",
    "\n",
    "        if i == 1\n",
    "\n",
    "            finish(i) = ((log(1-r)/(-5)))^2+samples(i);\n",
    "\n",
    "            l(i) = 0;\n",
    "\n",
    "        elseif samples(i) > finish(i-1)\n",
    "\n",
    "            finish(i) = ((log(1-r)/(-5)))^2+samples(i);\n",
    "\n",
    "            if l(i-1)>0\n",
    "\n",
    "                l(i)= l(i-1) - 1;\n",
    "\n",
    "            end\n",
    "\n",
    "            if l(i-1) == 0\n",
    "\n",
    "                l(i) = 0;\n",
    "\n",
    "            end\n",
    "\n",
    "        else\n",
    "\n",
    "            finish(i) = ((log(1-r)/(-5)))^2+finish(i-1);\n",
    "\n",
    "            l(i)= l(i-1)\n",
    "\n",
    "            l(i)= l(i-1) + 1;\n",
    "\n",
    "        end\n",
    "\n",
    "        i = i + 1;\n",
    "\n",
    "    end\n",
    "\n",
    "queue(x) = max(l);\n",
    "\n",
    "test(x) = queue(x) > 4;\n",
    "\n",
    "x = x + 1;\n",
    "\n",
    "finish = transpose(finish);\n",
    "\n",
    "samples = transpose(samples);\n",
    "\n",
    "round(mean(queue))\n",
    "\n",
    "sum(test)/n"
   ]
  },
  {
   "cell_type": "markdown",
   "metadata": {},
   "source": [
    "b)\n",
    "\n",
    "average of maximum number of people in queue (not sure if these should be integers??)\n",
    "\n",
    "ans =\n",
    "\n",
    "    7"
   ]
  },
  {
   "cell_type": "markdown",
   "metadata": {},
   "source": [
    "b)\n",
    "\n",
    "probability of 5 or more customers in queue\n",
    "\n",
    "ans =\n",
    "    \n",
    "    .56844"
   ]
  },
  {
   "cell_type": "markdown",
   "metadata": {},
   "source": [
    "Earthquake arrivals are poisson arrivals that occur at a given rate per unit time / per unit of surface area. In this case, we can let unit time = day (arbitrarily), and unit of surface area = $2\\pi$, for each hemisphere given that the surface area of planet IDEAL = $4\\pi r = 4\\$\n",
    "\n",
    "Thus, northern hemisphere arrivals $X \\sim Pois(1/\\pi)$ and southern hemisphere arrivals $Y \\sim Pois(1/2\\pi)$\n",
    "\n",
    "Using $T = 3$, we can simulate the earthquakes via a poisson splitting algorithm as such:\n",
    "\n",
    "Step 1:  generate $N(T)\\sim Pois(\\lambda T)$ for northern hemisphere arrivals $X \\sim Pois(1/\\pi*3)$ and southern hemisphere arrivals $Y \\sim Pois(1/2\\pi*3)$\n",
    "\n",
    "Step 2: for each arrival, we need to randomly sample a point on the sphere by generating a normally distributed random vector $v = [x,y,z]$ and making sure to normalize it $v/||v||$ so that it is uniformly distributed on the surface. We can ensure that our points fall on the northern and southern hemisphere by using a $\\pm$ absolute value function on component $z$ of vector $v$\n",
    "\n",
    "Step 3:  given $N(T) = n$ , generate $U_1,...,U[0,T]$\n",
    "\n",
    "Step 4:  arrange $U(1)< U(2)...< U(k)$ and set $A_i = U(i)$\n",
    "\n",
    "Step 5:  Output: $N(T), A(i)\\ \\forall \\ i= 1,...,n$"
   ]
  },
  {
   "cell_type": "code",
   "execution_count": 181,
   "metadata": {},
   "outputs": [],
   "source": [
    "def sample(t, intensity):\n",
    "    Lambda = intensity\n",
    "    # generate number of arrival\n",
    "    N = np.random.poisson(Lambda * t)\n",
    "    # generate time of arrival\n",
    "    A_proposal = np.sort(t * np.random.uniform(0,1,N))\n",
    "    # accept the proposal with lambda(t)/lambda\n",
    "    A = np.empty((1,))\n",
    "    for i in range(N):\n",
    "        U = np.random.uniform()\n",
    "        if U <= (A_proposal[i])/ Lambda:\n",
    "            A = np.append(A, A_proposal[i])\n",
    "    return sorted(A)"
   ]
  },
  {
   "cell_type": "code",
   "execution_count": 182,
   "metadata": {},
   "outputs": [],
   "source": [
    "def north(npoints, ndim=3):\n",
    "    vec = np.random.randn(ndim, npoints)\n",
    "    vec[2] = np.abs(vec[2])\n",
    "    vec /= np.linalg.norm(vec, axis=0)\n",
    "    return vec\n",
    "\n",
    "def south(npoints, ndim=3):\n",
    "    vec = np.random.randn(ndim, npoints)\n",
    "    vec[2] = -np.abs(vec[2])\n",
    "    vec /= np.linalg.norm(vec, axis=0)\n",
    "    return vec"
   ]
  },
  {
   "cell_type": "code",
   "execution_count": 196,
   "metadata": {},
   "outputs": [
    {
     "name": "stdout",
     "output_type": "stream",
     "text": [
      "time of arrival in northern hemisphere:  [1.6748264015278211, 1.9094316125149242, 3.0]\n",
      "time of arrival in southern hemisphere:  [4.9406564584124654e-324]\n"
     ]
    },
    {
     "data": {
      "image/png": "[encoded data removed]",
      "text/plain": [
       "<Figure size 432x288 with 1 Axes>"
      ]
     },
     "metadata": {},
     "output_type": "display_data"
    }
   ],
   "source": [
    "tn, ts = sample(3, 1/np.pi), sample(3, 1/(2*np.pi))\n",
    "xn, yn, zn = north(len(tn))\n",
    "xs, ys, zs = south(len(ts))\n",
    "\n",
    "xi, yi, zi = np.append(xn,xs), np.append(yn,ys), np.append(zn,zs)\n",
    "phi = np.linspace(0, np.pi, 10)\n",
    "theta = np.linspace(0, 2 * np.pi, 20)\n",
    "x = np.outer(np.sin(theta), np.cos(phi))\n",
    "y = np.outer(np.sin(theta), np.sin(phi))\n",
    "z = np.outer(np.cos(theta), np.ones_like(phi))\n",
    "\n",
    "fig, ax = plt.subplots(1, 1, subplot_kw={'projection':'3d', 'aspect':'equal'})\n",
    "ax.plot_wireframe(x, y, z, color='k', rstride=1, cstride=1)\n",
    "ax.scatter(xi, yi, zi, s=100, c='r', zorder=10)\n",
    "\n",
    "print('time of arrival in northern hemisphere: ', tn)\n",
    "print('time of arrival in southern hemisphere: ', ts)"
   ]
  },
  {
   "cell_type": "markdown",
   "metadata": {},
   "source": [
    "We know that the amount of times that we need to run acceptance rejection is actually a geometric RV such that: \n",
    "\n",
    "$p = P(U \\leq \\frac{1}{c} \\frac{f(Y)}{g(Y)}) = P(N = n) = (1−p)^{n−1}p, \\forall \\ n \\geq 1$\n",
    "\n",
    "using the above in conjunction with the understanding that $U$ and $Y$ are independent, we can show that the conditional density $P(Y = y | U \\leq \\frac{f(Y)}{cg(Y)})$, or in english, our effective sampling from the distribution given that our uniform RV fits within the ratio, is indeed equal to our density $f(y)$...\n",
    "\n",
    "$P(Y = y | U \\leq \\frac{f(Y)}{cg(Y)}) = cP(Y = y , U \\leq \\frac{f(Y)}{cg(Y)})$\n",
    "\n",
    "$= cP(Y = y , U \\leq \\frac{f(y)}{cg(y)})$\n",
    "\n",
    "$= cg(y) P(U \\leq \\frac{f(y)}{cg(y)})$\n",
    "\n",
    "$= cg(y) \\frac{f(y)}{cg(y)}$\n",
    "\n",
    "$= f(y)$\n",
    "\n",
    "$= P(X = k)$"
   ]
  }
 ],
 "metadata": {
  "kernelspec": {
   "display_name": "Python 3",
   "language": "python",
   "name": "python3"
  },
  "language_info": {
   "codemirror_mode": {
    "name": "ipython",
    "version": 3
   },
   "file_extension": ".py",
   "mimetype": "text/x-python",
   "name": "python",
   "nbconvert_exporter": "python",
   "pygments_lexer": "ipython3",
   "version": "3.6.8"
  }
 },
 "nbformat": 4,
 "nbformat_minor": 2
}
