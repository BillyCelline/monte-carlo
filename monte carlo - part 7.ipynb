{
 "cells": [
  {
   "cell_type": "code",
   "execution_count": 9,
   "metadata": {},
   "outputs": [
    {
     "name": "stdout",
     "output_type": "stream",
     "text": [
      "0.5\n",
      "0.158655253931\n"
     ]
    }
   ],
   "source": [
    "print(norm.cdf(0, 0, 1))\n",
    "print(norm.cdf(-1, 0, 1))"
   ]
  },
  {
   "cell_type": "code",
   "execution_count": 1,
   "metadata": {},
   "outputs": [],
   "source": [
    "import numpy as np\n",
    "import math\n",
    "from matplotlib import pyplot as plt\n",
    "import scipy.stats as sct\n",
    "\n",
    "from scipy.stats import expon\n",
    "from scipy.stats import uniform\n",
    "from scipy.stats import norm\n",
    "from scipy.stats import binom\n",
    "\n",
    "from sklearn import linear_model"
   ]
  },
  {
   "cell_type": "markdown",
   "metadata": {},
   "source": [
    "for comparison purposes: without unbiased estimator"
   ]
  },
  {
   "cell_type": "code",
   "execution_count": 37,
   "metadata": {},
   "outputs": [],
   "source": [
    "def claims(epsilon, delta, mu, sigma, n, p, burn_in):\n",
    "    \n",
    "    z = sct.norm.ppf(1 - delta / 2)       # 1 - delta / 2 quantile of N(0, 1)\n",
    "    confidence_interval = float('Inf')    # start with an infinity confident interval\n",
    "    running_mean = 0                      # first is null estimator, second corresponds to using control covariate\n",
    "    running_2moment = 0                   # same as above\n",
    "    N = 0                                 # count of number of paths sampled\n",
    "    Max_experiment = burn_in*10\n",
    "    res = []\n",
    "    while (N < burn_in or confidence_interval >= epsilon) and N < Max_experiment:   \n",
    "        s = binom.rvs(n, p)\n",
    "        if s > 0:\n",
    "            Z = norm.rvs(0,1, size=s)\n",
    "            X = sum(np.exp(1)**(mu + sigma*Z))\n",
    "            res.append(X)\n",
    "        else:\n",
    "            X = 0\n",
    "        \n",
    "        running_mean = (running_mean * N + X) / (N + 1)\n",
    "        running_2moment = (running_2moment * N + pow(X, 2)) / (N + 1)\n",
    "        sample_std = math.sqrt(running_2moment - pow(running_mean, 2) )\n",
    "        N = N + 1\n",
    "        confidence_interval = z * sample_std / (math.sqrt(N))\n",
    "    \n",
    "    CI = [running_mean - confidence_interval, running_mean + confidence_interval]\n",
    "    plt.hist(res, bins=N)\n",
    "    \n",
    "    print('Generate', N, \"samples \\n\")\n",
    "    return CI"
   ]
  },
  {
   "cell_type": "code",
   "execution_count": 39,
   "metadata": {},
   "outputs": [
    {
     "name": "stdout",
     "output_type": "stream",
     "text": [
      "Generate 10000 samples \n",
      "\n"
     ]
    },
    {
     "data": {
      "text/plain": [
       "[4.3570970728652378, 4.622921688891064]"
      ]
     },
     "execution_count": 39,
     "metadata": {},
     "output_type": "execute_result"
    },
    {
     "data": {
      "image/png": "[encoded data removed]",
      "text/plain": [
       "<Figure size 432x288 with 1 Axes>"
      ]
     },
     "metadata": {},
     "output_type": "display_data"
    }
   ],
   "source": [
    "claims(.0625, .0625, 1, 1, 100, .01, 1000)"
   ]
  },
  {
   "cell_type": "code",
   "execution_count": 35,
   "metadata": {},
   "outputs": [],
   "source": [
    "def sampler(n, p, N, mu, sigma):\n",
    "    X = np.zeros(N)\n",
    "    for i in range(N):\n",
    "        s = binom.rvs(n, p)\n",
    "        Z = norm.rvs(0,1, size=s)\n",
    "        X[i] = sum(np.exp(1)**(mu + sigma*Z))\n",
    "    return X"
   ]
  },
  {
   "cell_type": "code",
   "execution_count": 46,
   "metadata": {},
   "outputs": [
    {
     "data": {
      "text/plain": [
       "500"
      ]
     },
     "execution_count": 46,
     "metadata": {},
     "output_type": "execute_result"
    }
   ],
   "source": [
    "test = sampler(100, 0.01, 1000,1 , 1)\n",
    "len(test[1::2])"
   ]
  },
  {
   "cell_type": "markdown",
   "metadata": {},
   "source": [
    "unbiased estimator "
   ]
  },
  {
   "cell_type": "code",
   "execution_count": 51,
   "metadata": {},
   "outputs": [],
   "source": [
    "def new_claims(n, p, mu, sigma):\n",
    "    \"\"\"\n",
    "    Since each estimator takes about 2^(n_0+2) samples, we actually generate\n",
    "    2^(n_0+2)*num_sample many iid X's\n",
    "\n",
    "    Sample call:\n",
    "        Example_1_lecture16(10, 0.05, 1000, 1)\n",
    "    \"\"\"\n",
    "    # Do the experiment\n",
    "    # experiment variables\n",
    "    \n",
    "    n_0 = 10\n",
    "    delta = 0.0625\n",
    "    num_sample = 1000\n",
    "    burn_in = 1\n",
    "    \n",
    "    z = sct.norm.ppf(1 - delta/2)  # 1 - delta/2 quantile of N(0, 1)\n",
    "    r_star = 1 - pow(2, -1.5)     # optimal success rate for the geometric of N\n",
    "\n",
    "    confidence_interval = float('inf')\n",
    "    running_mean = 0\n",
    "    running_2moment = 0\n",
    "    num_estimator = 0     #count of number of estimators generated\n",
    "\n",
    "    CIs = np.zeros((1, num_sample))\n",
    "    estimation = np.zeros((1, num_sample))\n",
    "\n",
    "    while num_estimator < num_sample:\n",
    "        N = np.random.geometric(p=r_star)\n",
    "\n",
    "        samples = sampler(n, p, pow(2,N+n_0+1), mu, sigma)\n",
    "        samples_odd = samples[0::2]\n",
    "        samples_even = samples[1::2]\n",
    "        samples_n_0 = samples[0:pow(2,n_0)]\n",
    "\n",
    "        theta_N = np.mean(samples)\n",
    "        theta_N_odd = np.mean(samples_odd)\n",
    "        theta_N_even = np.mean(samples_even)\n",
    "        theta_n_0 = np.mean(samples_n_0)\n",
    "\n",
    "        X_star = (theta_N - (theta_N_odd + theta_N_even) / 2) / sct.geom(r_star).pmf(N+1) + theta_n_0\n",
    "\n",
    "        running_mean = (running_mean * num_estimator + X_star) / (num_estimator + 1)\n",
    "        running_2moment = (running_2moment * num_estimator + pow(X_star, 2)) / (num_estimator + 1)\n",
    "        sample_std = math.sqrt(running_2moment - pow(running_mean, 2))\n",
    "        num_estimator = num_estimator + 1\n",
    "        confidence_interval = z * sample_std / (math.sqrt(num_estimator))\n",
    "        estimation[:,num_estimator-1] = running_mean\n",
    "        CIs[:,num_estimator-1] = confidence_interval\n",
    "\n",
    "    lower = estimation - CIs\n",
    "    upper = estimation + CIs\n",
    "\n",
    "    print('Generate', num_estimator , 'samples \\n')\n",
    "    n_range = np.arange(burn_in-1, num_sample)\n",
    "    plt.plot(n_range, estimation[0,n_range], label='estimation')\n",
    "    plt.plot(n_range, lower[0,n_range],  label='lower CI')\n",
    "    plt.plot(n_range, upper[0,n_range], label='upper CI')\n",
    "    plt.legend(loc='upper right')\n",
    "    plt.show()\n",
    "\n",
    "    return running_mean, confidence_interval"
   ]
  },
  {
   "cell_type": "code",
   "execution_count": 53,
   "metadata": {},
   "outputs": [
    {
     "name": "stdout",
     "output_type": "stream",
     "text": [
      "Generate 1000 samples \n",
      "\n"
     ]
    },
    {
     "data": {
      "image/png": "[encoded data removed]",
      "text/plain": [
       "<Figure size 432x288 with 1 Axes>"
      ]
     },
     "metadata": {},
     "output_type": "display_data"
    }
   ],
   "source": [
    "mean, CI = new_claims(100, 0.01, 1, 1)"
   ]
  },
  {
   "cell_type": "code",
   "execution_count": 71,
   "metadata": {},
   "outputs": [
    {
     "name": "stdout",
     "output_type": "stream",
     "text": [
      "Confidence Interval:  [4.44831832016289, 4.502861490271506]\n"
     ]
    }
   ],
   "source": [
    "print('Confidence Interval: ',\n",
    "      [mean.item(-1)-(CI.item(-1)-mean.item(-1)), \n",
    "      mean.item(-1)+(CI.item(-1)-mean.item(-1))])"
   ]
  },
  {
   "cell_type": "code",
   "execution_count": 4,
   "metadata": {},
   "outputs": [],
   "source": [
    "def simulator(epsilon, delta, burn_in):\n",
    "    \n",
    "    z = sct.norm.ppf(1 - delta / 2)       # 1 - delta / 2 quantile of N(0, 1)\n",
    "    confidence_interval = float('Inf')    # start with an infinity confident interval\n",
    "    running_mean = 0                      # first is null estimator, second corresponds to using control covariate\n",
    "    running_2moment = 0                   # same as above\n",
    "    N = 0                                 # count of number of paths sampled\n",
    "    Max_experiment = burn_in*10\n",
    "    EW, ET = [], []\n",
    "    \n",
    "    while (N < burn_in or confidence_interval >= epsilon) and N < Max_experiment:   \n",
    "        w, v = np.zeros(1), uniform.rvs(0)\n",
    "        w[0], T = v, 1      ##########################\n",
    "        Z = w[0]           #initialize first arrival#\n",
    "        while Z > 0:      ##########################\n",
    "            v, tau = uniform.rvs(0), uniform.rvs(1)\n",
    "            Z = max(0, w[T-1] + v - tau)\n",
    "            T += 1\n",
    "            w = np.append(w, Z)\n",
    "        EW.append(np.sum(w))\n",
    "        ET.append(T)\n",
    "        eq = np.mean(EW)/np.mean(ET)\n",
    "        \n",
    "        running_mean = (running_mean * N + eq) / (N + 1)\n",
    "        running_2moment = (running_2moment * N + pow(eq, 2)) / (N + 1)\n",
    "        sample_std = math.sqrt(running_2moment - pow(running_mean, 2) )\n",
    "        N = N + 1\n",
    "        confidence_interval = z * sample_std / (math.sqrt(N))\n",
    "    \n",
    "    CI = [running_mean - confidence_interval, running_mean + confidence_interval]\n",
    "    plt.hist(EW, bins=N)\n",
    "    \n",
    "    print('Generate', N, \"samples \\n\")\n",
    "    return CI"
   ]
  },
  {
   "cell_type": "code",
   "execution_count": 40,
   "metadata": {},
   "outputs": [
    {
     "name": "stdout",
     "output_type": "stream",
     "text": [
      "Generate 10000 samples \n",
      "\n"
     ]
    },
    {
     "data": {
      "text/plain": [
       "[0.24849002698142958, 0.24865877298969535]"
      ]
     },
     "execution_count": 40,
     "metadata": {},
     "output_type": "execute_result"
    },
    {
     "data": {
      "image/png": "[encoded data removed]",
      "text/plain": [
       "<Figure size 432x288 with 1 Axes>"
      ]
     },
     "metadata": {},
     "output_type": "display_data"
    }
   ],
   "source": [
    "simulator(.05, .05, 10000)"
   ]
  },
  {
   "cell_type": "code",
   "execution_count": 72,
   "metadata": {},
   "outputs": [],
   "source": [
    "def queuer(N):\n",
    "    Ws, Ts = np.zeros(N), np.zeros(N)\n",
    "    for i in range(N):\n",
    "        w, v = np.zeros(1), uniform.rvs(0)\n",
    "        w[0], T = v, 1      ##########################\n",
    "        Z = w[0]           #initialize first arrival#\n",
    "        while Z > 0:      ##########################\n",
    "            v, tau = uniform.rvs(0), uniform.rvs(1)\n",
    "            Z = max(0, w[T-1] + v - tau)\n",
    "            T += 1\n",
    "            w = np.append(w, Z)\n",
    "        Ws[i] = np.sum(w)\n",
    "        Ts[i] = T\n",
    "    return Ws, Ts"
   ]
  },
  {
   "cell_type": "code",
   "execution_count": 74,
   "metadata": {},
   "outputs": [],
   "source": [
    "def new_simulator():\n",
    "    \"\"\"\n",
    "    Since each estimator takes about 2^(n_0+2) samples, we actually generate\n",
    "    2^(n_0+2)*num_sample many iid X's\n",
    "\n",
    "    Sample call:\n",
    "        Example_1_lecture16(10, 0.05, 1000, 1)\n",
    "    \"\"\"\n",
    "    # Do the experiment\n",
    "    # experiment variables\n",
    "    \n",
    "    n_0 = 10\n",
    "    delta = 0.05\n",
    "    num_sample = 1000\n",
    "    burn_in = 1\n",
    "    \n",
    "    z = sct.norm.ppf(1 - delta/2)  # 1 - delta/2 quantile of N(0, 1)\n",
    "    r_star = 1 - pow(2, -1.5)     # optimal success rate for the geometric of N\n",
    "\n",
    "    confidence_interval = float('inf')\n",
    "    running_mean = 0\n",
    "    running_2moment = 0\n",
    "    num_estimator = 0     #count of number of estimators generated\n",
    "\n",
    "    CIs = np.zeros((1, num_sample))\n",
    "    estimation = np.zeros((1, num_sample))\n",
    "\n",
    "    while num_estimator < num_sample:\n",
    "        N = np.random.geometric(p=r_star)\n",
    "\n",
    "        w_samples, t_samples = queuer(pow(2,N+n_0+1))\n",
    "        w_samples_odd, t_samples_odd = w_samples[0::2], t_samples[0::2]\n",
    "        w_samples_even, t_samples_even = w_samples[1::2], t_samples[1::2]\n",
    "        w_samples_n_0, t_samples_n_0 = w_samples[0:pow(2,n_0)], t_samples[0:pow(2,n_0)]\n",
    "\n",
    "        theta_N = np.mean(w_samples)/np.mean(t_samples)\n",
    "        theta_N_odd = np.mean(w_samples_odd)/np.mean(t_samples_odd)\n",
    "        theta_N_even = np.mean(w_samples_even)/np.mean(t_samples_even)\n",
    "        theta_n_0 = np.mean(w_samples_n_0)/np.mean(t_samples_n_0)\n",
    "\n",
    "        X_star = (theta_N - (theta_N_odd + theta_N_even) / 2) / sct.geom(r_star).pmf(N+1) + theta_n_0\n",
    "\n",
    "        running_mean = (running_mean * num_estimator + X_star) / (num_estimator + 1)\n",
    "        running_2moment = (running_2moment * num_estimator + pow(X_star, 2)) / (num_estimator + 1)\n",
    "        sample_std = math.sqrt(running_2moment - pow(running_mean, 2))\n",
    "        num_estimator = num_estimator + 1\n",
    "        confidence_interval = z * sample_std / (math.sqrt(num_estimator))\n",
    "        estimation[:,num_estimator-1] = running_mean\n",
    "        CIs[:,num_estimator-1] = confidence_interval\n",
    "\n",
    "    lower = estimation - CIs\n",
    "    upper = estimation + CIs\n",
    "\n",
    "    print('Generate', num_estimator , 'samples \\n')\n",
    "    n_range = np.arange(burn_in-1, num_sample)\n",
    "    plt.plot(n_range, estimation[0,n_range], label='estimation')\n",
    "    plt.plot(n_range, lower[0,n_range],  label='lower CI')\n",
    "    plt.plot(n_range, upper[0,n_range], label='upper CI')\n",
    "    plt.legend(loc='upper right')\n",
    "    plt.show()\n",
    "\n",
    "    return running_mean, confidence_interval"
   ]
  },
  {
   "cell_type": "code",
   "execution_count": 76,
   "metadata": {},
   "outputs": [
    {
     "name": "stdout",
     "output_type": "stream",
     "text": [
      "Generate 1000 samples \n",
      "\n"
     ]
    },
    {
     "data": {
      "image/png": "[encoded data removed]",
      "text/plain": [
       "<Figure size 432x288 with 1 Axes>"
      ]
     },
     "metadata": {},
     "output_type": "display_data"
    }
   ],
   "source": [
    "mean, CI = new_simulator()"
   ]
  },
  {
   "cell_type": "code",
   "execution_count": 77,
   "metadata": {},
   "outputs": [
    {
     "name": "stdout",
     "output_type": "stream",
     "text": [
      "Confidence Interval:  [0.24947478502487294, 0.25004140830292637]\n"
     ]
    }
   ],
   "source": [
    "print('Confidence Interval: ',[mean-CI, mean+CI])"
   ]
  },
  {
   "cell_type": "markdown",
   "metadata": {},
   "source": [
    "To generate an unbiased estimator, we first pick $n_0=10$ and sample $N=Geo(p)+n_0-1$ with $p=1-(1/2)^{3/2}$ for convenience\n",
    "\n",
    "We generate independent $X$s and then we generate $2^{N+1}$ samples of $Y$ from distribution $P(Y|X)$; we can call this $Z(X)$ such $E[Z(X)] =  g(E[Y(x)]$\n",
    "\n",
    "Then we split the samples into even and odd, outputting $Z = \\frac{\\bar{Z}_{2^{N+1}} - 1/2(\\bar{Z}^{odd}_{2^N}+ \\bar{Z}^{even}_{2^N})}{p(N)} + \\bar{Z}_{2^{n_0}}$\n",
    "\n",
    "We repeat this process until our error threshold is hit and compute the expectation $E[Z] = E[g(E[X|Y])]= \\alpha$"
   ]
  },
  {
   "cell_type": "markdown",
   "metadata": {},
   "source": [
    " "
   ]
  },
  {
   "cell_type": "markdown",
   "metadata": {},
   "source": [
    "the above shows the tower property at work: $\\alpha = E[g(E[Y |X])] = E[Z]$\n",
    "\n",
    "but this also applies with variance (law of total variance): $Var(Y) = E[Var(Y|X)] + Var(E[Y|X])$\n",
    "\n",
    "therefore the same logic that applies in randomized MLMC with unconditional distribution applies in the same context as that of a conditional one\n",
    "\n",
    "$g(\\bar{Y}_{2^{n+1}})=g(\\mu)+g_0(\\mu) (\\bar{Y}_{2^{n+1}}-\\mu)+\\frac{g''η_{n+1}}{2}(\\bar{Y}_{2^{n+1}}-\\mu)2$\n",
    "\n",
    "w/ even/odds\n",
    "\n",
    "$g(\\bar{Y^{even}}_{2^{n}})=g(\\mu)+g_0(\\mu) (\\bar{Y^{even}}_{2^{n}}-\\mu)+\\frac{g''η^{even}_{n}}{2}(\\bar{Y^{even}}_{2^{n}}-\\mu)2$\n",
    "\n",
    "$g(\\bar{Y^{odd}}_{2^{n}})=g(\\mu)+g_0(\\mu) (\\bar{Y^{odd}}_{2^{n}}-\\mu)+\\frac{g''η^{odd}_{n}}{2}(\\bar{Y^{odd}}_{2^{n}}-\\mu)2$\n",
    "\n",
    "condensed\n",
    "\n",
    "$\\frac{g''η_{n+1}}{2} (\\bar{Y}_{2^{n+1}}-μ)^2 - \\frac{g''(η^{even}_n)}{4}(\\bar{Y}^{even}_{2n}-μ)^2 - \\frac{g''(η^{odd}_n)}{4}(\\bar{Y}^{odd}_{2n}-μ)^2$\n",
    "\n",
    "by CLT\n",
    "\n",
    "$E[[g(Y_{2^{n+1}}) - \\frac{g(Y^{even}_{2^{n}}) + g(Y^{odd}_{2^{n}})}{2}]^2] \\leq c \\frac{1}{2^{2n}}$\n",
    "\n",
    "so\n",
    "\n",
    "$E[[g(Y_{2^{n+1}}) - \\frac{g(Y^{even}_{2^{n}}) + g(Y^{odd}_{2^{n}})}{p(n)}]^2]$\n",
    "\n",
    "$\\leq \\sum_{n=n_0}^{\\infty}c \\frac{1}{2^{2n}p(n)}$"
   ]
  },
  {
   "cell_type": "markdown",
   "metadata": {},
   "source": [
    " "
   ]
  },
  {
   "cell_type": "markdown",
   "metadata": {},
   "source": [
    "additionally, given that our estimator has finite variance, we can note that given CLT, our estimator $Y^*$ converges at a rate $c^{-\\frac{1}{2}}$ due to $p=1-(1/2)^{3/2}$"
   ]
  }
 ],
 "metadata": {
  "kernelspec": {
   "display_name": "Python 3",
   "language": "python",
   "name": "python3"
  },
  "language_info": {
   "codemirror_mode": {
    "name": "ipython",
    "version": 3
   },
   "file_extension": ".py",
   "mimetype": "text/x-python",
   "name": "python",
   "nbconvert_exporter": "python",
   "pygments_lexer": "ipython3",
   "version": "3.6.8"
  }
 },
 "nbformat": 4,
 "nbformat_minor": 2
}
