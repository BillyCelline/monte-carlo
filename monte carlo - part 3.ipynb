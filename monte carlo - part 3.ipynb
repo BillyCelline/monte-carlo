{
 "cells": [
  {
   "cell_type": "code",
   "execution_count": 4,
   "metadata": {},
   "outputs": [],
   "source": [
    "import numpy as np\n",
    "from scipy.stats import expon\n",
    "from scipy.stats import uniform\n",
    "import matplotlib.pyplot as plt"
   ]
  },
  {
   "cell_type": "markdown",
   "metadata": {},
   "source": [
    "The procedure is as follows:\n",
    "\n",
    "1) Using hazard function $\\lambda(t) = 2t + 3$, compute the CDF of the distribution from which we can sample from using an inverse transform method. In this case, the CDF $\\Lambda(t) = \\int_0^t \\lambda(t) = t^2 + 3t$, and the inverse of this is $\\frac{-3 + \\sqrt{9 + 4t}}{2}$\n",
    "\n",
    "2) Generate uniform random variables $U(0,1)$ to serve as probabilities\n",
    "\n",
    "3) Map uniform RVs (probabilities) to the inverse of the cumulative hazard function to generate RVs via $\\frac{-3 + \\sqrt{9 - 4log(1-U)}}{2}$"
   ]
  },
  {
   "cell_type": "code",
   "execution_count": 179,
   "metadata": {},
   "outputs": [],
   "source": [
    "def f(t):\n",
    "    return (-3 + np.sqrt(9 + 4*-np.log(1-t)))/2"
   ]
  },
  {
   "cell_type": "code",
   "execution_count": 185,
   "metadata": {},
   "outputs": [],
   "source": [
    "r = uniform.rvs(size=1000)"
   ]
  },
  {
   "cell_type": "code",
   "execution_count": 186,
   "metadata": {},
   "outputs": [],
   "source": [
    "hazard = f(r)"
   ]
  },
  {
   "cell_type": "code",
   "execution_count": 187,
   "metadata": {},
   "outputs": [
    {
     "data": {
      "text/plain": [
       "[<matplotlib.lines.Line2D at 0x1a29b7e080>]"
      ]
     },
     "execution_count": 187,
     "metadata": {},
     "output_type": "execute_result"
    },
    {
     "data": {
      "image/png": "[encoded data removed]",
      "text/plain": [
       "<Figure size 432x288 with 1 Axes>"
      ]
     },
     "metadata": {},
     "output_type": "display_data"
    }
   ],
   "source": [
    "plt.plot(hazard)"
   ]
  },
  {
   "cell_type": "code",
   "execution_count": 188,
   "metadata": {},
   "outputs": [
    {
     "data": {
      "text/plain": [
       "(array([ 2.80216981,  1.8681132 ,  1.19770161,  0.69300974,  0.42183201,\n",
       "         0.27871044,  0.12052343,  0.09792529,  0.03013086,  0.02259814]),\n",
       " array([  6.01411188e-04,   1.33355679e-01,   2.66109946e-01,\n",
       "          3.98864214e-01,   5.31618481e-01,   6.64372749e-01,\n",
       "          7.97127016e-01,   9.29881284e-01,   1.06263555e+00,\n",
       "          1.19538982e+00,   1.32814409e+00]),\n",
       " <a list of 10 Patch objects>)"
      ]
     },
     "execution_count": 188,
     "metadata": {},
     "output_type": "execute_result"
    },
    {
     "data": {
      "image/png": "[encoded data removed]",
      "text/plain": [
       "<Figure size 432x288 with 1 Axes>"
      ]
     },
     "metadata": {},
     "output_type": "display_data"
    }
   ],
   "source": [
    "plt.hist(hazard, density=1)"
   ]
  },
  {
   "cell_type": "markdown",
   "metadata": {},
   "source": [
    "a)\n",
    "\n",
    "We need to select $a$ such that $\\int_x^{\\infty}5x\\ e^{-x^2/2} I(x \\geq \\sqrt{log(a)})=1$\n",
    "\n",
    "or \n",
    "\n",
    "$\\int_{\\sqrt{log(a)}}^{\\infty}5x\\ e^{-x^2/2} = 1$\n",
    "\n",
    "$0 - 5 e^{-\\sqrt{log(a)}^2/2} = 1$\n",
    "\n",
    "$e^{-log(a)/2} = \\frac{1}{5}$\n",
    "\n",
    "$\\frac{-log(a)}{2} = log(\\frac{1}{5})$\n",
    "\n",
    "$-log(a) = 2log(\\frac{1}{5})$\n",
    "\n",
    "$-log(a) = - log(5^2)$\n",
    "\n",
    "$a = 25$"
   ]
  },
  {
   "cell_type": "code",
   "execution_count": 83,
   "metadata": {},
   "outputs": [],
   "source": [
    "from scipy.integrate import quad"
   ]
  },
  {
   "cell_type": "code",
   "execution_count": 227,
   "metadata": {},
   "outputs": [
    {
     "data": {
      "text/plain": [
       "1.0"
      ]
     },
     "execution_count": 227,
     "metadata": {},
     "output_type": "execute_result"
    }
   ],
   "source": [
    "def f(a):\n",
    "    return np.sqrt(np.log(a))\n",
    "\n",
    "def integrand(x):\n",
    "    return 5*x*(np.exp(1)**((-x**2)/2))\n",
    "\n",
    "quad(integrand,f(25),np.inf)[0]"
   ]
  },
  {
   "cell_type": "markdown",
   "metadata": {},
   "source": [
    "b)\n",
    "\n",
    "Inverse Transform:\n",
    "\n",
    "1) Generate Uniform RV U(0,1)\n",
    "\n",
    "2) Use inverse of our function above, $F^{-1}(Y) = \\sqrt{log(\\frac{-5}{U-1})*2}$ to generate RVs"
   ]
  },
  {
   "cell_type": "markdown",
   "metadata": {},
   "source": [
    "b)\n",
    "\n",
    "Acceptance Rejection:\n",
    "\n",
    "This is simple because our function $g(x)$ is really just a Rayleigh, with $f(x)$ being a multiple of $c = 5$ and $g(x)$, thus our acceptance rejection algorithm is as follows:\n",
    "\n",
    "1) generate $Y$ with PDF $g(Y) = x\\ e^{-x^2/2}$\n",
    "\n",
    "2) generate $U$\n",
    "\n",
    "3) while $U > \\frac{f(Y)}{cg(Y)}$\n",
    "\n",
    "    3a) generate Y\n",
    "    3b) generate U\n",
    "\n",
    "4) set X = Y"
   ]
  },
  {
   "cell_type": "markdown",
   "metadata": {},
   "source": [
    "c)\n",
    "\n",
    "Inverse transform is obviously much faster! This might be because I'm using vectorized computation in python, but it's more likely just due to the nature of acceptance rejection: i.e., there will be RVs generated that will not fit in the proposal density, and will therefore be rejected! Any rejection is a waste considering that none of the computations in inverse transform are rejected"
   ]
  },
  {
   "cell_type": "code",
   "execution_count": 337,
   "metadata": {},
   "outputs": [],
   "source": [
    "import timeit\n",
    "from scipy.stats import rayleigh"
   ]
  },
  {
   "cell_type": "code",
   "execution_count": 335,
   "metadata": {},
   "outputs": [
    {
     "name": "stdout",
     "output_type": "stream",
     "text": [
      "Mean:  2.2162836797\n",
      "Variance:  0.132170189581\n",
      "Time Elapsed:  0.0009097440051846206\n"
     ]
    },
    {
     "data": {
      "image/png": "[encoded data removed]",
      "text/plain": [
       "<Figure size 432x288 with 1 Axes>"
      ]
     },
     "metadata": {},
     "output_type": "display_data"
    }
   ],
   "source": [
    "#c\n",
    "\n",
    "#inverse transform\n",
    "\n",
    "start = timeit.timeit()\n",
    "\n",
    "u = uniform.rvs(size=1000)\n",
    "inv = np.sqrt(2*np.log(-5/(u-1)))\n",
    "print('Mean: ',np.mean(inv))\n",
    "print('Variance: ',np.var(inv))\n",
    "\n",
    "end = timeit.timeit()\n",
    "\n",
    "plt.hist(inv)\n",
    "print('Time Elapsed: ',start - end)"
   ]
  },
  {
   "cell_type": "code",
   "execution_count": 358,
   "metadata": {},
   "outputs": [],
   "source": [
    "#c\n",
    "\n",
    "#acceptance rejection\n",
    "\n",
    "def acc_rej(n):\n",
    "    start = timeit.timeit()\n",
    "    X = np.zeros(n)\n",
    "    i = 0\n",
    "    while i < n:\n",
    "        u = uniform.rvs(size=1)\n",
    "        Y = rayleigh.rvs(size=1)\n",
    "        if Y > np.sqrt(np.log(25)):\n",
    "            g = 5*Y*np.exp((-Y)**2/2)*u\n",
    "            f = 5*Y*np.exp((-Y)**2/2)\n",
    "            if f > g:\n",
    "                X[i] = Y\n",
    "                i += 1\n",
    "    end = timeit.timeit()\n",
    "    time = (start - end)\n",
    "    return X, time"
   ]
  },
  {
   "cell_type": "code",
   "execution_count": 364,
   "metadata": {},
   "outputs": [
    {
     "name": "stdout",
     "output_type": "stream",
     "text": [
      "Mean:  2.25752695566\n",
      "Variance:  0.163172679983\n",
      "Time Elapsed:  0.0034841509768739343\n"
     ]
    },
    {
     "data": {
      "image/png": "[encoded data removed]",
      "text/plain": [
       "<Figure size 432x288 with 1 Axes>"
      ]
     },
     "metadata": {},
     "output_type": "display_data"
    }
   ],
   "source": [
    "blop, time = acc_rej(1000)\n",
    "\n",
    "plt.hist(inv)\n",
    "print('Mean: ', np.mean(blop))\n",
    "print('Variance: ', np.var(blop))\n",
    "print('Time Elapsed: ',time)"
   ]
  },
  {
   "cell_type": "markdown",
   "metadata": {},
   "source": [
    "The results on this are interesting because we can see that $T_{1,0,0}$ and $T_{1,1,0}$ converge to the same mean and variance. I assume this is because we're modeling an IID sequence of bernoullis where these two are basically the same in that we're modeling (success, fail, fail) and (success, success, fail) both with the same probability of success $p = 0.5$. \n",
    "\n",
    "The numbers produced below check out with what we would expect our expectation $E[T]$"
   ]
  },
  {
   "cell_type": "code",
   "execution_count": 312,
   "metadata": {},
   "outputs": [
    {
     "name": "stdout",
     "output_type": "stream",
     "text": [
      "Expectation of T000:  14.0\n",
      "Expectation of T100:  8.0\n",
      "Expectation of T110:  8.0\n"
     ]
    }
   ],
   "source": [
    "print('Expectation of T000: ',(.5**-3-1)/(.5))\n",
    "print('Expectation of T100: ',(.5**-2)/(.5))\n",
    "print('Expectation of T110: ',(.5**-2)/(.5))"
   ]
  },
  {
   "cell_type": "code",
   "execution_count": 111,
   "metadata": {},
   "outputs": [],
   "source": [
    "from scipy.stats import bernoulli"
   ]
  },
  {
   "cell_type": "code",
   "execution_count": 158,
   "metadata": {},
   "outputs": [],
   "source": [
    "def simulator(n):\n",
    "    t0, t1, t2 = np.zeros(n), np.zeros(n), np.zeros(n)\n",
    "    for i in range(n):\n",
    "        r = bernoulli.rvs(.5, size=1000)\n",
    "        for j in range(len(r)):\n",
    "            if list(r[j:j+3]) == [0,0,0]:\n",
    "                t0[i] = j + 3\n",
    "                break\n",
    "        for j in range(len(r)):\n",
    "            if list(r[j:j+3]) == [1,0,0]:\n",
    "                t1[i] = j + 3\n",
    "                break\n",
    "        for j in range(len(r)):\n",
    "            if list(r[j:j+3]) == [1,1,0]:\n",
    "                t2[i] = j + 3\n",
    "                break\n",
    "    print('Means: \\n')\n",
    "    print('T000: ', np.mean(t0))\n",
    "    print('T100: ', np.mean(t1))\n",
    "    print('T110: ', np.mean(t2),'\\n')\n",
    "    print('Variances: \\n')\n",
    "    print('T000: ', np.var(t0))\n",
    "    print('T100: ', np.var(t1))\n",
    "    print('T110: ', np.var(t2))"
   ]
  },
  {
   "cell_type": "code",
   "execution_count": 165,
   "metadata": {},
   "outputs": [
    {
     "name": "stdout",
     "output_type": "stream",
     "text": [
      "Means: \n",
      "\n",
      "T000:  14.75\n",
      "T100:  7.82\n",
      "T110:  8.14 \n",
      "\n",
      "Variances: \n",
      "\n",
      "T000:  133.5875\n",
      "T100:  17.3076\n",
      "T110:  23.5804\n"
     ]
    }
   ],
   "source": [
    "simulator(100)"
   ]
  },
  {
   "cell_type": "code",
   "execution_count": 166,
   "metadata": {},
   "outputs": [
    {
     "name": "stdout",
     "output_type": "stream",
     "text": [
      "Means: \n",
      "\n",
      "T000:  14.037\n",
      "T100:  8.312\n",
      "T110:  8.101 \n",
      "\n",
      "Variances: \n",
      "\n",
      "T000:  131.259631\n",
      "T100:  27.528656\n",
      "T110:  23.916799\n"
     ]
    }
   ],
   "source": [
    "simulator(1000)"
   ]
  },
  {
   "cell_type": "code",
   "execution_count": 167,
   "metadata": {},
   "outputs": [
    {
     "name": "stdout",
     "output_type": "stream",
     "text": [
      "Means: \n",
      "\n",
      "T000:  14.0108\n",
      "T100:  7.9893\n",
      "T110:  7.9923 \n",
      "\n",
      "Variances: \n",
      "\n",
      "T000:  143.64928336\n",
      "T100:  23.74598551\n",
      "T110:  23.72164071\n"
     ]
    }
   ],
   "source": [
    "simulator(10000)"
   ]
  },
  {
   "cell_type": "code",
   "execution_count": 162,
   "metadata": {},
   "outputs": [
    {
     "name": "stdout",
     "output_type": "stream",
     "text": [
      "Means: \n",
      "\n",
      "T000:  13.95958\n",
      "T100:  7.98956\n",
      "T110:  8.00628 \n",
      "\n",
      "Variances: \n",
      "\n",
      "T000:  141.506046224\n",
      "T100:  23.8529910064\n",
      "T110:  24.3521605616\n"
     ]
    }
   ],
   "source": [
    "simulator(100000)"
   ]
  },
  {
   "cell_type": "code",
   "execution_count": 163,
   "metadata": {},
   "outputs": [
    {
     "name": "stdout",
     "output_type": "stream",
     "text": [
      "Means: \n",
      "\n",
      "T000:  14.004606\n",
      "T100:  8.00121\n",
      "T110:  7.995476 \n",
      "\n",
      "Variances: \n",
      "\n",
      "T000:  142.027150785\n",
      "T100:  24.0230725359\n",
      "T110:  24.0016955334\n"
     ]
    }
   ],
   "source": [
    "simulator(1000000)"
   ]
  },
  {
   "cell_type": "code",
   "execution_count": 323,
   "metadata": {},
   "outputs": [],
   "source": [
    "from scipy.stats import geom"
   ]
  },
  {
   "cell_type": "markdown",
   "metadata": {},
   "source": [
    "Given $P(X = j) = \\frac{1}{2}(p_1 + p_2)$ we can say that this is a mixture of geometric distributions and thus simplify to $p_1 \\sim Geom(1/2)$ and $p_2 \\sim Geom(1/3)$, and we can generate geometric RVs via the composition method\n"
   ]
  },
  {
   "cell_type": "markdown",
   "metadata": {},
   "source": [
    "An easier way to code it is to just generate $p_1 \\sim Geom(1/2)$ and $p_2 \\sim Geom(1/3)$\n",
    "\n",
    "\n",
    "1) Generate two bernoulli RVs: $U_1$ and $U_2$\n",
    "\n",
    "2) \n",
    "\n",
    "If $U_1 < \\frac{1}{2}:\\ Y \\sim Geom(1/2)$\n",
    "\n",
    "If $U_1 > \\frac{1}{2}:\\ Y \\sim Geom(1/3)$\n",
    "\n",
    "3) Set $X = Y_j$"
   ]
  },
  {
   "cell_type": "code",
   "execution_count": 324,
   "metadata": {},
   "outputs": [],
   "source": [
    "def new_p5(n):\n",
    "    X = np.zeros(n)\n",
    "    for i in range(n):\n",
    "        u = bernoulli.rvs(1/2, size=1)\n",
    "        if u[0] < 1/2:\n",
    "            Y = geom.rvs(1/2, size=1)\n",
    "        else:\n",
    "            Y = geom.rvs(1/3, size=1)\n",
    "        X[i] = Y\n",
    "    return X"
   ]
  },
  {
   "cell_type": "code",
   "execution_count": 325,
   "metadata": {},
   "outputs": [
    {
     "name": "stdout",
     "output_type": "stream",
     "text": [
      "Mean:  2.522\n",
      "Variance:  4.175516\n"
     ]
    },
    {
     "data": {
      "image/png": "[encoded data removed]",
      "text/plain": [
       "<Figure size 432x288 with 1 Axes>"
      ]
     },
     "metadata": {},
     "output_type": "display_data"
    }
   ],
   "source": [
    "blop = new_p5(1000)\n",
    "plt.hist(blop, 100, density=100, alpha=0.7)\n",
    "print('Mean: ',np.mean(blop))\n",
    "print('Variance: ',np.var(blop))"
   ]
  },
  {
   "cell_type": "code",
   "execution_count": null,
   "metadata": {},
   "outputs": [],
   "source": []
  }
 ],
 "metadata": {
  "kernelspec": {
   "display_name": "Python 3",
   "language": "python",
   "name": "python3"
  },
  "language_info": {
   "codemirror_mode": {
    "name": "ipython",
    "version": 3
   },
   "file_extension": ".py",
   "mimetype": "text/x-python",
   "name": "python",
   "nbconvert_exporter": "python",
   "pygments_lexer": "ipython3",
   "version": "3.6.8"
  }
 },
 "nbformat": 4,
 "nbformat_minor": 2
}
